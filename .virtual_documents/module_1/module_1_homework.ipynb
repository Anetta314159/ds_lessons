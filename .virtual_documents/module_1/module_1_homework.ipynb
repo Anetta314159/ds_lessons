


# Import all necessary libraries and modules you need
import pandas as pd
import numpy as np
from datetime import datetime


# Load the dataset and perform cleaning and formatting if necessary


# Let's load the dataset using the read_csv() method, which is used to read text files.
df = pd.read_csv('baseball_games.csv', index_col=0)


# Let's take a look at the first few (5) rows of the table we loaded.
# We'll use the head() method. It returns the first n rows of the DataFrame (by default, n=5).
df.head()


# Let's find out what data types are stored in the table, 
# as well as the number of non-null values per column 
# and the amount of memory used, using the info() method
df.info()


# Check the number of duplicate rows
sum(df.duplicated())








# Use isnull() to identify null values and sum() to count them
sum(df['attendance'].isnull())


# Calculate the percentage of null values in this column
print(f"{(sum(df['attendance'].isnull()) / len(df['attendance'])):.2%}")





# Use median() to calculate the median
# Replace missing values using fillna()
df['attendance'] = df['attendance'].fillna(df['attendance'].median())





#Преобразуем тип колонки attendance в int при помощи astype(int)
df['attendance'] = df['attendance'].astype(int)





# Use to_datetime() to convert the data type
df['date'] = pd.to_datetime(df['date'])





# Check the format in which the time is recorded
df['start_time'].head(3)


# Use str.replace() to replace 'Local' with an empty string, 'p.m.' with 'PM', and 'a.m.' with 'AM'
df['start_time'] = df['start_time'].str.replace(' Local', '')
df['start_time'] = df['start_time'].str.replace('p.m.', 'PM')
df['start_time'] = df['start_time'].str.replace('a.m.', 'AM')


# Let's see the result
df['start_time'].head(3)


# Convert the column type to datetime
df['start_time'] = df['start_time'].apply(lambda x: datetime.strptime(x, "%I:%M %p").time())





# Convert degrees from Fahrenheit to Celsius
df['temperature'] = df['temperature'].apply(lambda x: round((x - 32) * 5 / 9, 2))





# Check which unique values are present in the home_team_outcome column
df['home_team_outcome'].unique()


# Replace values: Loss → 0, Win → 1
df['home_team_outcome'] = df.home_team_outcome.map({'Loss': 0, 'Win': 1})





# Find the highest number of spectators during the entire season
# To do this, select the games that took place in the regular season
mask_season = (df['season'] == 'regular season')





def select_by_condition(data, col, func):
    '''
    Returns rows from data where the condition data[col] == func(data[col]) is met.
    
    Args:
        data: the dataset from which to select rows
        col: the column to which the selection condition is applied
        func: the function defining the selection condition (e.g., max, min)
        
    Returns:
        Rows from data that satisfy the condition
    '''
    cond_val = func(data[col])
    print(f'{str(func)[-4:-1]} for {col} : {cond_val}')
    return data[data[col] == cond_val]


# Find the highest number of spectators during the entire season
# Use max() on 'attendance' for the games played in the regular season (mask_season)
select_by_condition(df.loc[mask_season], 'attendance', max)








# Find the lowest temperature during the entire season
# Use min() on 'temperature' for the games played in the regular season (mask_season)
select_by_condition(df.loc[mask_season], 'temperature', min)








# Find the highest temperature during the entire season
# Use max() on 'temperature' for the games played in the regular season (mask_season)
select_by_condition(df.loc[mask_season], 'temperature', max)








# Find the longest game of the entire season
# Use max() on 'game_hours_dec' for the games played in the regular season (mask_season)
select_by_condition(df.loc[mask_season], 'game_hours_dec', max)








# Find the shortest game of the entire season
# Use min() on 'game_hours_dec' for the games played in the regular season (mask_season)
select_by_condition(df.loc[mask_season], 'game_hours_dec', min)











# But let's double-check just in case)))
# First, select the games played in the regular season (mask_season)
# Then use value_counts() to see the number of outcomes for home teams
df.loc[mask_season]['home_team_outcome'].value_counts()





# Find the number of games where the home team neither won nor lost
sum((df['home_team_win'] == 0) & (df['home_team_loss'] == 0))








# To do this, select the games played in the regular season (mask_season)
# Sort the 'date' using sort_values() in descending order (ascending=False)
df.loc[mask_season].sort_values(['date', 'start_time'], ascending=[False, False]).head(1)








# Select games with the lowest number of spectators
# Use min() on 'attendance' across all games
select_by_condition(df, 'attendance', min)








# Find max() for 'wind_speed' in the games played during the regular season (mask_season)
select_by_condition(df.loc[mask_season], 'wind_speed', max)








# Runs in baseball are called "runs", so we need to calculate the sum of away_team_runs and home_team_runs
# This will give us the total number of runs per game (we'll sum the columns), then select the max of that sum
# This new column will also be useful for question 20
df['all_runs'] = df['away_team_runs'] + df['home_team_runs']
# Find max() for 'all_runs' across all games
select_by_condition(df, 'all_runs', max)








# Find max() for 'home_team_errors' across all games
select_by_condition(df, 'home_team_errors', max)








# Calculate the sum of away_team_hits and home_team_hits (create a new column)
# Then find the max of that sum
df[(df['away_team_hits'] + df['home_team_hits']) == (df['away_team_hits'] + df['home_team_hits']).max()]








# Select games played in the regular season (mask_season)
# Count the number of games for 'away_team' and 'home_team' using value_counts
# Sum the results using sum(axis=1)
df.loc[mask_season][['away_team', 'home_team']].apply(pd.Series.value_counts).sum(axis=1)





# Create an array to store which team won each game
# If 'home_team_outcome' is 0, then the away team won
# If 'home_team_outcome' is 1, then the home team won
conditions = [
    (df['home_team_outcome'] == 0),
    (df['home_team_outcome'] == 1),
]
choices = [df['away_team'], df['home_team']]

# Use np.select to create the array
win_arr = np.select(conditions, choices)

# Create a new DataFrame, filter by regular season (mask_season), and count occurrences using value_counts
pd.DataFrame(win_arr, columns=['team'])[mask_season].value_counts(sort=True).head(1)








# Select all games in the regular season (mask_season) where the home team won (home_team_outcome == 1),
# then count the number of wins per home_team using value_counts()
df[mask_season & (df['home_team_outcome'] == 1)]['home_team'].value_counts(sort=True).head(1)








# Select all games in the regular season where the home team lost (home_team_outcome == 0),
# meaning the away team won (an away victory),
# then count the number of away wins per away_team using value_counts()
df[mask_season & (df['home_team_outcome'] == 0)]['away_team'].value_counts(sort=True).head(1)








# Create an array to store which team lost each game
# If 'home_team_outcome' is 0, the home team lost
# If 'home_team_outcome' is 1, the away team lost
conditions = [
    (df['home_team_outcome'] == 0),
    (df['home_team_outcome'] == 1)
]
choices = [df['home_team'], df['away_team']]

# Use np.select to create the array
loss_arr = np.select(conditions, choices)

# Create a new DataFrame, filter by regular season (mask_season), and count losses with value_counts
pd.DataFrame(loss_arr, columns=['team'])[mask_season].value_counts(sort=True).head(1)








# Build the covariance matrix for 'attendance' and 'home_team_outcome'
cov_matrix = df[['attendance', 'home_team_outcome']].cov(numeric_only=True)
display(cov_matrix)





# Build the correlation matrix for 'attendance' and 'home_team_outcome'
cor_matrix = df[['attendance', 'home_team_outcome']].corr(numeric_only=True)
display(cor_matrix)








# Check home losses (where 'home_team_outcome' == 0)
# and count occurrences by 'day_of_week' using value_counts()
df[df['home_team_outcome'] == 0]['day_of_week'].value_counts()








# Sort by total number of runs and check the corresponding temperatures
df.sort_values('all_runs', ascending=False).head(5)[['all_runs', 'temperature']]


# Look at the number of runs during low temperatures
df.sort_values('temperature', ascending=True).head(5)[['all_runs', 'temperature']]






