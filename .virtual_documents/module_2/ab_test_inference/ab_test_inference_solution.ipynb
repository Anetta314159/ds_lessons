


import numpy as np
import pandas as pd
import scipy.stats as stats
import statsmodels.stats.api as sms
import matplotlib as mpl
import matplotlib.pyplot as plt
import seaborn as sns
from math import ceil
from statsmodels.stats.proportion import proportions_ztest, proportion_confint


df = pd.read_csv('ab_test_ensembles.csv')


df.head(3)


df.info()





#Убедимся, что каждый user_id уникален
len(df.user_id.unique()) == df.shape[0]





def cross_tab(data):
    return pd.crosstab(data['group'], data['variants'])


#Проверим, что данные корректно распределены по группам control
#и treatment, и что столбец 'variants' 
#соответствует назначенной версии сайта.
cross_tab(df)


def clean_data(data):
    data = data.drop(data[(data.variants == "svm_ensemble_v_1_22") & (data.group == "control")].index)
    data = data.drop(data[(data.variants == "standard") & (data.group == "treatment")].index)
    return data


df = clean_data(df)


cross_tab(df)


df.nunique(), df.shape[0]





# Разделение данных на группы
group_A = df[(df['group'] == 'control') & (df['variants'] == 'standard')]
group_B = df[(df['group'] == 'treatment') & (df['variants'] == 'svm_ensemble_v_1_22')]

# Проверка количества пользователей в каждой группе
print("Количество пользователей в группе A (control):", len(group_A))
print("Количество пользователей в группе B (treatment):", len(group_B))





group_B = group_B[:len(group_A)]


# Сформируем общую выборку
ab_df = pd.concat([group_A, group_B], axis=0)
ab_df.reset_index(drop=True, inplace=True)
ab_df.head(3)


ab_df.info()


ab_df.group.value_counts(normalize=True)


def conversion_rates(data):
    conversion_rates = data.groupby('group')['converted']

    # Стандартное отклонение для сформированной выборки
    std_proportion = lambda x: np.std(x, ddof=0)
    # Стандартная ошибка для сформированной выборки
    se_proportion = lambda x: stats.sem(x, ddof=0)

    conversion_rates = conversion_rates.agg(['mean', std_proportion, se_proportion]).rename(columns={'mean':'CR mean', '<lambda_0>':'CR std', '<lambda_1>':'CR se'})
    return conversion_rates


conversion_rates(ab_df)


def hist_gr(data):
    plt.figure(figsize=(4,6));
    ax = sns.barplot(x=data['group'], y=data['converted'], errorbar=('ci', False));
    for i in ax.containers:
        ax.bar_label(i,)
    plt.ylim(0, 0.17);
    plt.title('Conversion rate by experimental samples', pad=20)
    plt.xlabel('Group', labelpad=15);
    plt.ylabel('Converted (proportion)', labelpad=15);





hist_gr(ab_df)





def get_statistics(data):
    control_results = data[data['group'] == 'control']['converted']
    treatment_results = data[data['group'] == 'treatment']['converted']

    n_con = control_results.count()
    n_treat = treatment_results.count()
    successes = [control_results.sum(), treatment_results.sum()]
    nobs = [n_con, n_treat]

    z_stat, pval = proportions_ztest(successes, nobs=nobs)
    (lower_con, lower_treat), (upper_con, upper_treat) = proportion_confint(successes, nobs=nobs, alpha=0.05)

    print(f'Z-statistic: {z_stat:.2f}')
    print(f'p-value: {pval:.3f}')
    print(f'CI 95% for control group: [{lower_con:.3f}, {upper_con:.3f}]')
    print(f'CI 95% for treatment group: [{lower_treat:.3f}, {upper_treat:.3f}]')


get_statistics(ab_df)








#Посмотрим какие типы пользователей есть
df = pd.read_csv('ab_test_ensembles.csv')
df.user_type.unique()


df.groupby('user_type').variants.hist(legend=True, alpha=0.5, bins=12)


#Cформируем датасеты дляя старых и новых пользователей
df_new = df[df.user_type == 'new_user']
df_reg = df[df.user_type == 'registered_user']


df_new = clean_data(df_new)
cross_tab(df_new)


def ab_data(data):
    # Разделение данных на группы
    group_A = data[(data['group'] == 'control') & (data['variants'] == 'standard')]
    group_B = data[(data['group'] == 'treatment') & (data['variants'] == 'svm_ensemble_v_1_22')]
    #Формируем одинаковый размер
    count = min(len(group_A), len(group_B))
    group_A = group_A[:count]
    group_B = group_B[:count]
    # Формируем общую выборку
    ab_df = pd.concat([group_A, group_B], axis=0)
    ab_df.reset_index(drop=True, inplace=True)
    return ab_df


#Выборка для АВ теста среди новых пользователей
ab_df_new = ab_data(df_new)


ab_df_new.group.value_counts(normalize=True)


hist_gr(ab_df_new)


conversion_rates(ab_df_new)





get_statistics(ab_df_new)





df_reg = clean_data(df_reg)
cross_tab(df_reg)


#Выборка для АВ теста среди старых пользователей
ab_df_reg = ab_data(df_reg)
ab_df_reg.group.value_counts(normalize=True)


hist_gr(ab_df_reg)


conversion_rates(ab_df_reg)





get_statistics(ab_df_reg)









