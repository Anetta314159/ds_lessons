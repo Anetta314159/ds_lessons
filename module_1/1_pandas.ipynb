{
 "cells": [
  {
   "cell_type": "markdown",
   "metadata": {
    "pycharm": {
     "name": "#%% md\n"
    }
   },
   "source": [
    "# Homework: Testing Knowledge of the Pandas Data Analysis Library\n",
    "\n",
    "You are provided with a dataset containing information on the results of the 2016 baseball season.\n",
    "\n",
    "Your task is to load the dataset (it is included in the archive with this homework assignment), clean it if necessary, and answer the given analytical questions.\n",
    "\n",
    "List of columns presented in the dataset:\n",
    "\n",
    "---\n",
    "attendance – number of spectators at the game\n",
    "* away_team – name of the away team\n",
    "* away_team_errors – number of errors made by the away team\n",
    "* away_team_hits – number of hits by the away team (a hit in baseball is when the batter successfully reaches first base)\n",
    "* away_team_runs – number of runs scored by the away team (a run is a point scored by the offensive player)\n",
    "* date – date of the game\n",
    "* field_type – type of playing field\n",
    "* game_type – type of game\n",
    "* home_team – name of the home team\n",
    "* home_team_errors – number of errors made by the home team\n",
    "* home_team_hits – number of hits by the home team\n",
    "* home_team_runs – number of runs scored by the home team\n",
    "* start_time – start time of the game\n",
    "* venue – name of the venue (stadium, field, arena)\n",
    "* day_of_week – day of the week the game was played\n",
    "* temperature – air temperature on the day of the game (in Fahrenheit)\n",
    "* wind_speed – wind speed on the day of the game\n",
    "* wind_direction – wind direction\n",
    "* sky – cloudiness\n",
    "* total_runs – total number of runs scored by both teams\n",
    "* game_hours_dec – game duration in hours (decimal format)\n",
    "* season – type of game season\n",
    "* home_team_win – result of the home team (1 – win)\n",
    "* home_team_loss – result of the home team (0 – loss)\n",
    "* home_team_outcome – outcome of the game\n",
    "---\n",
    "\n",
    "There are a total of 20 questions in the assignment. Each correct answer is worth 5 points. Therefore, if all answers are correct, you will receive 100 points. The final score will then be scaled to a 10-point grading system.\n",
    "\n",
    "---\n",
    "\n",
    "Good luck on your quest for the truth :)"
   ]
  },
  {
   "cell_type": "code",
   "execution_count": 1,
   "metadata": {
    "pycharm": {
     "name": "#%%\n"
    },
    "tags": []
   },
   "outputs": [],
   "source": [
    "# Import all necessary libraries and modules you need\n",
    "import pandas as pd\n",
    "import numpy as np\n",
    "from datetime import datetime"
   ]
  },
  {
   "cell_type": "code",
   "execution_count": 2,
   "metadata": {
    "pycharm": {
     "name": "#%%\n"
    },
    "tags": []
   },
   "outputs": [],
   "source": [
    "# Load the dataset and perform cleaning and formatting if necessary"
   ]
  },
  {
   "cell_type": "code",
   "execution_count": 3,
   "metadata": {
    "tags": []
   },
   "outputs": [],
   "source": [
    "# Let's load the dataset using the read_csv() method, which is used to read text files.\n",
    "df = pd.read_csv('baseball_games.csv', index_col=0)"
   ]
  },
  {
   "cell_type": "code",
   "execution_count": 4,
   "metadata": {
    "tags": []
   },
   "outputs": [
    {
     "data": {
      "text/html": [
       "<div>\n",
       "<style scoped>\n",
       "    .dataframe tbody tr th:only-of-type {\n",
       "        vertical-align: middle;\n",
       "    }\n",
       "\n",
       "    .dataframe tbody tr th {\n",
       "        vertical-align: top;\n",
       "    }\n",
       "\n",
       "    .dataframe thead th {\n",
       "        text-align: right;\n",
       "    }\n",
       "</style>\n",
       "<table border=\"1\" class=\"dataframe\">\n",
       "  <thead>\n",
       "    <tr style=\"text-align: right;\">\n",
       "      <th></th>\n",
       "      <th>attendance</th>\n",
       "      <th>away_team</th>\n",
       "      <th>away_team_errors</th>\n",
       "      <th>away_team_hits</th>\n",
       "      <th>away_team_runs</th>\n",
       "      <th>date</th>\n",
       "      <th>field_type</th>\n",
       "      <th>game_type</th>\n",
       "      <th>home_team</th>\n",
       "      <th>home_team_errors</th>\n",
       "      <th>...</th>\n",
       "      <th>temperature</th>\n",
       "      <th>wind_speed</th>\n",
       "      <th>wind_direction</th>\n",
       "      <th>sky</th>\n",
       "      <th>total_runs</th>\n",
       "      <th>game_hours_dec</th>\n",
       "      <th>season</th>\n",
       "      <th>home_team_win</th>\n",
       "      <th>home_team_loss</th>\n",
       "      <th>home_team_outcome</th>\n",
       "    </tr>\n",
       "  </thead>\n",
       "  <tbody>\n",
       "    <tr>\n",
       "      <th>0</th>\n",
       "      <td>40030.0</td>\n",
       "      <td>New York Mets</td>\n",
       "      <td>1</td>\n",
       "      <td>7</td>\n",
       "      <td>3</td>\n",
       "      <td>2016-04-03</td>\n",
       "      <td>on grass</td>\n",
       "      <td>Night Game</td>\n",
       "      <td>Kansas City Royals</td>\n",
       "      <td>0</td>\n",
       "      <td>...</td>\n",
       "      <td>74.0</td>\n",
       "      <td>14.0</td>\n",
       "      <td>from Right to Left</td>\n",
       "      <td>Sunny</td>\n",
       "      <td>7</td>\n",
       "      <td>3.216667</td>\n",
       "      <td>regular season</td>\n",
       "      <td>1</td>\n",
       "      <td>0</td>\n",
       "      <td>Win</td>\n",
       "    </tr>\n",
       "    <tr>\n",
       "      <th>1</th>\n",
       "      <td>21621.0</td>\n",
       "      <td>Philadelphia Phillies</td>\n",
       "      <td>0</td>\n",
       "      <td>5</td>\n",
       "      <td>2</td>\n",
       "      <td>2016-04-06</td>\n",
       "      <td>on grass</td>\n",
       "      <td>Night Game</td>\n",
       "      <td>Cincinnati Reds</td>\n",
       "      <td>0</td>\n",
       "      <td>...</td>\n",
       "      <td>55.0</td>\n",
       "      <td>24.0</td>\n",
       "      <td>from Right to Left</td>\n",
       "      <td>Overcast</td>\n",
       "      <td>5</td>\n",
       "      <td>2.383333</td>\n",
       "      <td>regular season</td>\n",
       "      <td>1</td>\n",
       "      <td>0</td>\n",
       "      <td>Win</td>\n",
       "    </tr>\n",
       "    <tr>\n",
       "      <th>2</th>\n",
       "      <td>12622.0</td>\n",
       "      <td>Minnesota Twins</td>\n",
       "      <td>0</td>\n",
       "      <td>5</td>\n",
       "      <td>2</td>\n",
       "      <td>2016-04-06</td>\n",
       "      <td>on grass</td>\n",
       "      <td>Night Game</td>\n",
       "      <td>Baltimore Orioles</td>\n",
       "      <td>0</td>\n",
       "      <td>...</td>\n",
       "      <td>48.0</td>\n",
       "      <td>7.0</td>\n",
       "      <td>out to Leftfield</td>\n",
       "      <td>Unknown</td>\n",
       "      <td>6</td>\n",
       "      <td>3.183333</td>\n",
       "      <td>regular season</td>\n",
       "      <td>1</td>\n",
       "      <td>0</td>\n",
       "      <td>Win</td>\n",
       "    </tr>\n",
       "    <tr>\n",
       "      <th>3</th>\n",
       "      <td>18531.0</td>\n",
       "      <td>Washington Nationals</td>\n",
       "      <td>0</td>\n",
       "      <td>8</td>\n",
       "      <td>3</td>\n",
       "      <td>2016-04-06</td>\n",
       "      <td>on grass</td>\n",
       "      <td>Night Game</td>\n",
       "      <td>Atlanta Braves</td>\n",
       "      <td>1</td>\n",
       "      <td>...</td>\n",
       "      <td>65.0</td>\n",
       "      <td>10.0</td>\n",
       "      <td>from Right to Left</td>\n",
       "      <td>Cloudy</td>\n",
       "      <td>4</td>\n",
       "      <td>2.883333</td>\n",
       "      <td>regular season</td>\n",
       "      <td>0</td>\n",
       "      <td>1</td>\n",
       "      <td>Loss</td>\n",
       "    </tr>\n",
       "    <tr>\n",
       "      <th>4</th>\n",
       "      <td>18572.0</td>\n",
       "      <td>Colorado Rockies</td>\n",
       "      <td>1</td>\n",
       "      <td>8</td>\n",
       "      <td>4</td>\n",
       "      <td>2016-04-06</td>\n",
       "      <td>on grass</td>\n",
       "      <td>Day Game</td>\n",
       "      <td>Arizona Diamondbacks</td>\n",
       "      <td>0</td>\n",
       "      <td>...</td>\n",
       "      <td>77.0</td>\n",
       "      <td>0.0</td>\n",
       "      <td>in unknown direction</td>\n",
       "      <td>In Dome</td>\n",
       "      <td>7</td>\n",
       "      <td>2.650000</td>\n",
       "      <td>regular season</td>\n",
       "      <td>0</td>\n",
       "      <td>1</td>\n",
       "      <td>Loss</td>\n",
       "    </tr>\n",
       "  </tbody>\n",
       "</table>\n",
       "<p>5 rows × 25 columns</p>\n",
       "</div>"
      ],
      "text/plain": [
       "   attendance              away_team  away_team_errors  away_team_hits  \\\n",
       "0     40030.0          New York Mets                 1               7   \n",
       "1     21621.0  Philadelphia Phillies                 0               5   \n",
       "2     12622.0        Minnesota Twins                 0               5   \n",
       "3     18531.0   Washington Nationals                 0               8   \n",
       "4     18572.0       Colorado Rockies                 1               8   \n",
       "\n",
       "   away_team_runs        date field_type   game_type             home_team  \\\n",
       "0               3  2016-04-03   on grass  Night Game    Kansas City Royals   \n",
       "1               2  2016-04-06   on grass  Night Game       Cincinnati Reds   \n",
       "2               2  2016-04-06   on grass  Night Game     Baltimore Orioles   \n",
       "3               3  2016-04-06   on grass  Night Game        Atlanta Braves   \n",
       "4               4  2016-04-06   on grass    Day Game  Arizona Diamondbacks   \n",
       "\n",
       "   home_team_errors  ...  temperature  wind_speed         wind_direction  \\\n",
       "0                 0  ...         74.0        14.0     from Right to Left   \n",
       "1                 0  ...         55.0        24.0     from Right to Left   \n",
       "2                 0  ...         48.0         7.0       out to Leftfield   \n",
       "3                 1  ...         65.0        10.0     from Right to Left   \n",
       "4                 0  ...         77.0         0.0   in unknown direction   \n",
       "\n",
       "        sky total_runs  game_hours_dec          season home_team_win  \\\n",
       "0     Sunny          7        3.216667  regular season             1   \n",
       "1  Overcast          5        2.383333  regular season             1   \n",
       "2   Unknown          6        3.183333  regular season             1   \n",
       "3    Cloudy          4        2.883333  regular season             0   \n",
       "4   In Dome          7        2.650000  regular season             0   \n",
       "\n",
       "  home_team_loss  home_team_outcome  \n",
       "0              0                Win  \n",
       "1              0                Win  \n",
       "2              0                Win  \n",
       "3              1               Loss  \n",
       "4              1               Loss  \n",
       "\n",
       "[5 rows x 25 columns]"
      ]
     },
     "execution_count": 4,
     "metadata": {},
     "output_type": "execute_result"
    }
   ],
   "source": [
    "# Let's take a look at the first few (5) rows of the table we loaded.\n",
    "# We'll use the head() method. It returns the first n rows of the DataFrame (by default, n=5).\n",
    "df.head()"
   ]
  },
  {
   "cell_type": "code",
   "execution_count": 5,
   "metadata": {
    "tags": []
   },
   "outputs": [
    {
     "name": "stdout",
     "output_type": "stream",
     "text": [
      "<class 'pandas.core.frame.DataFrame'>\n",
      "Index: 2463 entries, 0 to 2462\n",
      "Data columns (total 25 columns):\n",
      " #   Column             Non-Null Count  Dtype  \n",
      "---  ------             --------------  -----  \n",
      " 0   attendance         2460 non-null   float64\n",
      " 1   away_team          2463 non-null   object \n",
      " 2   away_team_errors   2463 non-null   int64  \n",
      " 3   away_team_hits     2463 non-null   int64  \n",
      " 4   away_team_runs     2463 non-null   int64  \n",
      " 5   date               2463 non-null   object \n",
      " 6   field_type         2463 non-null   object \n",
      " 7   game_type          2463 non-null   object \n",
      " 8   home_team          2463 non-null   object \n",
      " 9   home_team_errors   2463 non-null   int64  \n",
      " 10  home_team_hits     2463 non-null   int64  \n",
      " 11  home_team_runs     2463 non-null   int64  \n",
      " 12  start_time         2463 non-null   object \n",
      " 13  venue              2463 non-null   object \n",
      " 14  day_of_week        2463 non-null   object \n",
      " 15  temperature        2463 non-null   float64\n",
      " 16  wind_speed         2463 non-null   float64\n",
      " 17  wind_direction     2463 non-null   object \n",
      " 18  sky                2463 non-null   object \n",
      " 19  total_runs         2463 non-null   int64  \n",
      " 20  game_hours_dec     2463 non-null   float64\n",
      " 21  season             2463 non-null   object \n",
      " 22  home_team_win      2463 non-null   int64  \n",
      " 23  home_team_loss     2463 non-null   int64  \n",
      " 24  home_team_outcome  2463 non-null   object \n",
      "dtypes: float64(4), int64(9), object(12)\n",
      "memory usage: 500.3+ KB\n"
     ]
    }
   ],
   "source": [
    "# Let's find out what data types are stored in the table, \n",
    "# as well as the number of non-null values per column \n",
    "# and the amount of memory used, using the info() method\n",
    "df.info()"
   ]
  },
  {
   "cell_type": "code",
   "execution_count": 6,
   "metadata": {
    "tags": []
   },
   "outputs": [
    {
     "data": {
      "text/plain": [
       "0"
      ]
     },
     "execution_count": 6,
     "metadata": {},
     "output_type": "execute_result"
    }
   ],
   "source": [
    "# Check the number of duplicate rows\n",
    "sum(df.duplicated())"
   ]
  },
  {
   "cell_type": "markdown",
   "metadata": {},
   "source": [
    "<font color='darkblue'>\n",
    "Our DataFrame has 25 columns (the number matches the textual description) and 2,463 rows.\n",
    "<br>4 columns are of type float64, 9 are int64, and 12 are object.\n",
    "<br>Memory usage is 500.3+ KB.\n",
    "<br>All columns except for 'attendance' have no null values.\n",
    "<br>There are no duplicates.\n",
    "<br>\n",
    "<br>Let's take a closer look at several columns to check if their data types match the textual description and whether they contain null or non-null values.\n",
    "</font>"
   ]
  },
  {
   "cell_type": "markdown",
   "metadata": {},
   "source": [
    "<div style=\"background-color: lightblue; padding: 10px; border-radius: 10px;\">\n",
    "    <font color='darkblue'>\n",
    "        <b>attendance</b> – number of spectators at the game\n",
    "    </font>\n",
    "</div>"
   ]
  },
  {
   "cell_type": "code",
   "execution_count": 7,
   "metadata": {
    "tags": []
   },
   "outputs": [
    {
     "data": {
      "text/plain": [
       "3"
      ]
     },
     "execution_count": 7,
     "metadata": {},
     "output_type": "execute_result"
    }
   ],
   "source": [
    "# Use isnull() to identify null values and sum() to count them\n",
    "sum(df['attendance'].isnull())"
   ]
  },
  {
   "cell_type": "code",
   "execution_count": 8,
   "metadata": {
    "tags": []
   },
   "outputs": [
    {
     "name": "stdout",
     "output_type": "stream",
     "text": [
      "0.12%\n"
     ]
    }
   ],
   "source": [
    "# Calculate the percentage of null values in this column\n",
    "print(f\"{(sum(df['attendance'].isnull()) / len(df['attendance'])):.2%}\")"
   ]
  },
  {
   "cell_type": "markdown",
   "metadata": {
    "tags": []
   },
   "source": [
    "<font color='darkblue'>\n",
    "We can see that the <b>attendance</b> column has 3 null values, which makes up 0.12% of the total.  \n",
    "We decide to replace these three rows with the median number of spectators.\n",
    "</font>"
   ]
  },
  {
   "cell_type": "code",
   "execution_count": 9,
   "metadata": {
    "tags": []
   },
   "outputs": [],
   "source": [
    "# Use median() to calculate the median\n",
    "# Replace missing values using fillna()\n",
    "df['attendance'] = df['attendance'].fillna(df['attendance'].median())"
   ]
  },
  {
   "cell_type": "markdown",
   "metadata": {},
   "source": [
    "<font color='darkblue'>\n",
    "    The <b>attendance</b> column has the type <b>float64</b> (floating-point numbers) and provides information about the number of spectators at the game.  \n",
    "    Since the number of spectators should be an integer, the <b>int</b> type is more appropriate.\n",
    "</font>"
   ]
  },
  {
   "cell_type": "code",
   "execution_count": 10,
   "metadata": {
    "tags": []
   },
   "outputs": [],
   "source": [
    "#Преобразуем тип колонки attendance в int при помощи astype(int)\n",
    "df['attendance'] = df['attendance'].astype(int)"
   ]
  },
  {
   "cell_type": "markdown",
   "metadata": {},
   "source": [
    "<div style=\"background-color: lightblue; padding: 10px; border-radius: 10px;\">\n",
    "    <font color='darkblue'>\n",
    "        <b>date</b> – date of the game. The column has 2,463 non-null values of type object.\n",
    "    </font> \n",
    "</div>"
   ]
  },
  {
   "cell_type": "code",
   "execution_count": 11,
   "metadata": {
    "tags": []
   },
   "outputs": [],
   "source": [
    "# Use to_datetime() to convert the data type\n",
    "df['date'] = pd.to_datetime(df['date'])"
   ]
  },
  {
   "cell_type": "markdown",
   "metadata": {
    "tags": []
   },
   "source": [
    "<div style=\"background-color: lightblue; padding: 10px; border-radius: 10px;\">\n",
    "    <font color='darkblue'>\n",
    "        <b>start_time</b> – start time of the game. Let's check the format of the data and convert it to datetime.\n",
    "    </font>\n",
    "</div>"
   ]
  },
  {
   "cell_type": "code",
   "execution_count": 12,
   "metadata": {
    "tags": []
   },
   "outputs": [
    {
     "data": {
      "text/plain": [
       "0    7:38 p.m. Local\n",
       "1    7:11 p.m. Local\n",
       "2    7:07 p.m. Local\n",
       "Name: start_time, dtype: object"
      ]
     },
     "execution_count": 12,
     "metadata": {},
     "output_type": "execute_result"
    }
   ],
   "source": [
    "# Check the format in which the time is recorded\n",
    "df['start_time'].head(3)"
   ]
  },
  {
   "cell_type": "code",
   "execution_count": 13,
   "metadata": {
    "tags": []
   },
   "outputs": [],
   "source": [
    "# Use str.replace() to replace 'Local' with an empty string, 'p.m.' with 'PM', and 'a.m.' with 'AM'\n",
    "df['start_time'] = df['start_time'].str.replace(' Local', '')\n",
    "df['start_time'] = df['start_time'].str.replace('p.m.', 'PM')\n",
    "df['start_time'] = df['start_time'].str.replace('a.m.', 'AM')"
   ]
  },
  {
   "cell_type": "code",
   "execution_count": 14,
   "metadata": {
    "tags": []
   },
   "outputs": [
    {
     "data": {
      "text/plain": [
       "0    7:38 PM\n",
       "1    7:11 PM\n",
       "2    7:07 PM\n",
       "Name: start_time, dtype: object"
      ]
     },
     "execution_count": 14,
     "metadata": {},
     "output_type": "execute_result"
    }
   ],
   "source": [
    "# Let's see the result\n",
    "df['start_time'].head(3)"
   ]
  },
  {
   "cell_type": "code",
   "execution_count": 15,
   "metadata": {
    "tags": []
   },
   "outputs": [],
   "source": [
    "# Convert the column type to datetime\n",
    "df['start_time'] = df['start_time'].apply(lambda x: datetime.strptime(x, \"%I:%M %p\").time())"
   ]
  },
  {
   "cell_type": "markdown",
   "metadata": {
    "tags": []
   },
   "source": [
    "<div style=\"background-color: lightblue; padding: 10px; border-radius: 10px;\">\n",
    "   <font color='darkblue'>\n",
    "    <b>temperature</b> – air temperature on the day of the game, in Fahrenheit. The column contains 2,463 non-null values of type float64.  \n",
    "    Later, in question 20, a temperature below 0 is mentioned — it is obvious that this refers to degrees in Celsius.\n",
    "   </font>\n",
    "</div>"
   ]
  },
  {
   "cell_type": "code",
   "execution_count": 16,
   "metadata": {
    "tags": []
   },
   "outputs": [],
   "source": [
    "# Convert degrees from Fahrenheit to Celsius\n",
    "df['temperature'] = df['temperature'].apply(lambda x: round((x - 32) * 5 / 9, 2))"
   ]
  },
  {
   "cell_type": "markdown",
   "metadata": {},
   "source": [
    "<div style=\"background-color: lightblue; padding: 10px; border-radius: 10px;\">\n",
    "   <font color='darkblue'>\n",
    "    <b>home_team_outcome</b> – outcome of the game. The column contains 2,463 non-null values of type object.\n",
    "   </font>\n",
    "</div>"
   ]
  },
  {
   "cell_type": "code",
   "execution_count": 17,
   "metadata": {
    "tags": []
   },
   "outputs": [
    {
     "data": {
      "text/plain": [
       "array(['Win', 'Loss'], dtype=object)"
      ]
     },
     "execution_count": 17,
     "metadata": {},
     "output_type": "execute_result"
    }
   ],
   "source": [
    "# Check which unique values are present in the home_team_outcome column\n",
    "df['home_team_outcome'].unique()"
   ]
  },
  {
   "cell_type": "code",
   "execution_count": 18,
   "metadata": {
    "tags": []
   },
   "outputs": [],
   "source": [
    "# Replace values: Loss → 0, Win → 1\n",
    "df['home_team_outcome'] = df.home_team_outcome.map({'Loss': 0, 'Win': 1})"
   ]
  },
  {
   "cell_type": "markdown",
   "metadata": {
    "pycharm": {
     "name": "#%% md\n"
    }
   },
   "source": [
    "# 1. Which game had the highest number of spectators during the entire season?"
   ]
  },
  {
   "cell_type": "code",
   "execution_count": 19,
   "metadata": {
    "tags": []
   },
   "outputs": [],
   "source": [
    "# Find the highest number of spectators during the entire season\n",
    "# To do this, select the games that took place in the regular season\n",
    "mask_season = (df['season'] == 'regular season')"
   ]
  },
  {
   "cell_type": "markdown",
   "metadata": {
    "tags": []
   },
   "source": [
    "<font color='darkblue'>\n",
    "    Since we have several similar questions, let's write a helper function to avoid code duplication.\n",
    "</font>"
   ]
  },
  {
   "cell_type": "code",
   "execution_count": 20,
   "metadata": {
    "tags": []
   },
   "outputs": [],
   "source": [
    "def select_by_condition(data, col, func):\n",
    "    '''\n",
    "    Returns rows from data where the condition data[col] == func(data[col]) is met.\n",
    "    \n",
    "    Args:\n",
    "        data: the dataset from which to select rows\n",
    "        col: the column to which the selection condition is applied\n",
    "        func: the function defining the selection condition (e.g., max, min)\n",
    "        \n",
    "    Returns:\n",
    "        Rows from data that satisfy the condition\n",
    "    '''\n",
    "    cond_val = func(data[col])\n",
    "    print(f'{str(func)[-4:-1]} for {col} : {cond_val}')\n",
    "    return data[data[col] == cond_val]"
   ]
  },
  {
   "cell_type": "code",
   "execution_count": 21,
   "metadata": {
    "pycharm": {
     "name": "#%%\n"
    },
    "tags": []
   },
   "outputs": [
    {
     "name": "stdout",
     "output_type": "stream",
     "text": [
      "max для attendance : 53621\n"
     ]
    },
    {
     "data": {
      "text/html": [
       "<div>\n",
       "<style scoped>\n",
       "    .dataframe tbody tr th:only-of-type {\n",
       "        vertical-align: middle;\n",
       "    }\n",
       "\n",
       "    .dataframe tbody tr th {\n",
       "        vertical-align: top;\n",
       "    }\n",
       "\n",
       "    .dataframe thead th {\n",
       "        text-align: right;\n",
       "    }\n",
       "</style>\n",
       "<table border=\"1\" class=\"dataframe\">\n",
       "  <thead>\n",
       "    <tr style=\"text-align: right;\">\n",
       "      <th></th>\n",
       "      <th>attendance</th>\n",
       "      <th>away_team</th>\n",
       "      <th>away_team_errors</th>\n",
       "      <th>away_team_hits</th>\n",
       "      <th>away_team_runs</th>\n",
       "      <th>date</th>\n",
       "      <th>field_type</th>\n",
       "      <th>game_type</th>\n",
       "      <th>home_team</th>\n",
       "      <th>home_team_errors</th>\n",
       "      <th>...</th>\n",
       "      <th>temperature</th>\n",
       "      <th>wind_speed</th>\n",
       "      <th>wind_direction</th>\n",
       "      <th>sky</th>\n",
       "      <th>total_runs</th>\n",
       "      <th>game_hours_dec</th>\n",
       "      <th>season</th>\n",
       "      <th>home_team_win</th>\n",
       "      <th>home_team_loss</th>\n",
       "      <th>home_team_outcome</th>\n",
       "    </tr>\n",
       "  </thead>\n",
       "  <tbody>\n",
       "    <tr>\n",
       "      <th>534</th>\n",
       "      <td>53621</td>\n",
       "      <td>San Francisco Giants</td>\n",
       "      <td>1</td>\n",
       "      <td>11</td>\n",
       "      <td>2</td>\n",
       "      <td>2016-09-20</td>\n",
       "      <td>on grass</td>\n",
       "      <td>Night Game</td>\n",
       "      <td>Los Angeles Dodgers</td>\n",
       "      <td>0</td>\n",
       "      <td>...</td>\n",
       "      <td>25.0</td>\n",
       "      <td>6.0</td>\n",
       "      <td>out to Rightfield</td>\n",
       "      <td>Cloudy</td>\n",
       "      <td>2</td>\n",
       "      <td>3.6</td>\n",
       "      <td>regular season</td>\n",
       "      <td>0</td>\n",
       "      <td>1</td>\n",
       "      <td>0</td>\n",
       "    </tr>\n",
       "  </tbody>\n",
       "</table>\n",
       "<p>1 rows × 25 columns</p>\n",
       "</div>"
      ],
      "text/plain": [
       "     attendance             away_team  away_team_errors  away_team_hits  \\\n",
       "534       53621  San Francisco Giants                 1              11   \n",
       "\n",
       "     away_team_runs       date field_type   game_type            home_team  \\\n",
       "534               2 2016-09-20   on grass  Night Game  Los Angeles Dodgers   \n",
       "\n",
       "     home_team_errors  ...  temperature  wind_speed      wind_direction  \\\n",
       "534                 0  ...         25.0         6.0   out to Rightfield   \n",
       "\n",
       "        sky total_runs  game_hours_dec          season home_team_win  \\\n",
       "534  Cloudy          2             3.6  regular season             0   \n",
       "\n",
       "    home_team_loss  home_team_outcome  \n",
       "534              1                  0  \n",
       "\n",
       "[1 rows x 25 columns]"
      ]
     },
     "execution_count": 21,
     "metadata": {},
     "output_type": "execute_result"
    }
   ],
   "source": [
    "# Find the highest number of spectators during the entire season\n",
    "# Use max() on 'attendance' for the games played in the regular season (mask_season)\n",
    "select_by_condition(df.loc[mask_season], 'attendance', max)"
   ]
  },
  {
   "cell_type": "markdown",
   "metadata": {
    "tags": []
   },
   "source": [
    "<font color='darkblue'>\n",
    "    The game <b>San Francisco Giants vs Los Angeles Dodgers</b> had the highest number of spectators — 53,621 — during the entire season.\n",
    "</font>"
   ]
  },
  {
   "cell_type": "markdown",
   "metadata": {
    "pycharm": {
     "name": "#%% md\n"
    }
   },
   "source": [
    "# 2. Which game was the coldest (based on temperature) during the entire season?"
   ]
  },
  {
   "cell_type": "code",
   "execution_count": 22,
   "metadata": {
    "pycharm": {
     "name": "#%%\n"
    },
    "tags": []
   },
   "outputs": [
    {
     "name": "stdout",
     "output_type": "stream",
     "text": [
      "min для temperature : -0.56\n"
     ]
    },
    {
     "data": {
      "text/html": [
       "<div>\n",
       "<style scoped>\n",
       "    .dataframe tbody tr th:only-of-type {\n",
       "        vertical-align: middle;\n",
       "    }\n",
       "\n",
       "    .dataframe tbody tr th {\n",
       "        vertical-align: top;\n",
       "    }\n",
       "\n",
       "    .dataframe thead th {\n",
       "        text-align: right;\n",
       "    }\n",
       "</style>\n",
       "<table border=\"1\" class=\"dataframe\">\n",
       "  <thead>\n",
       "    <tr style=\"text-align: right;\">\n",
       "      <th></th>\n",
       "      <th>attendance</th>\n",
       "      <th>away_team</th>\n",
       "      <th>away_team_errors</th>\n",
       "      <th>away_team_hits</th>\n",
       "      <th>away_team_runs</th>\n",
       "      <th>date</th>\n",
       "      <th>field_type</th>\n",
       "      <th>game_type</th>\n",
       "      <th>home_team</th>\n",
       "      <th>home_team_errors</th>\n",
       "      <th>...</th>\n",
       "      <th>temperature</th>\n",
       "      <th>wind_speed</th>\n",
       "      <th>wind_direction</th>\n",
       "      <th>sky</th>\n",
       "      <th>total_runs</th>\n",
       "      <th>game_hours_dec</th>\n",
       "      <th>season</th>\n",
       "      <th>home_team_win</th>\n",
       "      <th>home_team_loss</th>\n",
       "      <th>home_team_outcome</th>\n",
       "    </tr>\n",
       "  </thead>\n",
       "  <tbody>\n",
       "    <tr>\n",
       "      <th>2409</th>\n",
       "      <td>32419</td>\n",
       "      <td>New York Yankees</td>\n",
       "      <td>1</td>\n",
       "      <td>13</td>\n",
       "      <td>8</td>\n",
       "      <td>2016-04-09</td>\n",
       "      <td>on grass</td>\n",
       "      <td>Day Game</td>\n",
       "      <td>Detroit Tigers</td>\n",
       "      <td>1</td>\n",
       "      <td>...</td>\n",
       "      <td>-0.56</td>\n",
       "      <td>18.0</td>\n",
       "      <td>from Left to Right</td>\n",
       "      <td>Cloudy</td>\n",
       "      <td>12</td>\n",
       "      <td>3.333333</td>\n",
       "      <td>regular season</td>\n",
       "      <td>0</td>\n",
       "      <td>1</td>\n",
       "      <td>0</td>\n",
       "    </tr>\n",
       "  </tbody>\n",
       "</table>\n",
       "<p>1 rows × 25 columns</p>\n",
       "</div>"
      ],
      "text/plain": [
       "      attendance         away_team  away_team_errors  away_team_hits  \\\n",
       "2409       32419  New York Yankees                 1              13   \n",
       "\n",
       "      away_team_runs       date field_type game_type       home_team  \\\n",
       "2409               8 2016-04-09   on grass  Day Game  Detroit Tigers   \n",
       "\n",
       "      home_team_errors  ...  temperature  wind_speed       wind_direction  \\\n",
       "2409                 1  ...        -0.56        18.0   from Left to Right   \n",
       "\n",
       "         sky total_runs  game_hours_dec          season home_team_win  \\\n",
       "2409  Cloudy         12        3.333333  regular season             0   \n",
       "\n",
       "     home_team_loss  home_team_outcome  \n",
       "2409              1                  0  \n",
       "\n",
       "[1 rows x 25 columns]"
      ]
     },
     "execution_count": 22,
     "metadata": {},
     "output_type": "execute_result"
    }
   ],
   "source": [
    "# Find the lowest temperature during the entire season\n",
    "# Use min() on 'temperature' for the games played in the regular season (mask_season)\n",
    "select_by_condition(df.loc[mask_season], 'temperature', min)"
   ]
  },
  {
   "cell_type": "markdown",
   "metadata": {},
   "source": [
    "<font color='darkblue'>\n",
    "    The game <b>New York Yankees vs Detroit Tigers</b> was played at -0.56°C and was the coldest game of the entire season.\n",
    "</font>"
   ]
  },
  {
   "cell_type": "markdown",
   "metadata": {
    "pycharm": {
     "name": "#%% md\n"
    }
   },
   "source": [
    "# 3. Which game was the warmest during the entire season?"
   ]
  },
  {
   "cell_type": "code",
   "execution_count": 23,
   "metadata": {
    "pycharm": {
     "name": "#%%\n"
    }
   },
   "outputs": [
    {
     "name": "stdout",
     "output_type": "stream",
     "text": [
      "max для temperature : 38.33\n"
     ]
    },
    {
     "data": {
      "text/html": [
       "<div>\n",
       "<style scoped>\n",
       "    .dataframe tbody tr th:only-of-type {\n",
       "        vertical-align: middle;\n",
       "    }\n",
       "\n",
       "    .dataframe tbody tr th {\n",
       "        vertical-align: top;\n",
       "    }\n",
       "\n",
       "    .dataframe thead th {\n",
       "        text-align: right;\n",
       "    }\n",
       "</style>\n",
       "<table border=\"1\" class=\"dataframe\">\n",
       "  <thead>\n",
       "    <tr style=\"text-align: right;\">\n",
       "      <th></th>\n",
       "      <th>attendance</th>\n",
       "      <th>away_team</th>\n",
       "      <th>away_team_errors</th>\n",
       "      <th>away_team_hits</th>\n",
       "      <th>away_team_runs</th>\n",
       "      <th>date</th>\n",
       "      <th>field_type</th>\n",
       "      <th>game_type</th>\n",
       "      <th>home_team</th>\n",
       "      <th>home_team_errors</th>\n",
       "      <th>...</th>\n",
       "      <th>temperature</th>\n",
       "      <th>wind_speed</th>\n",
       "      <th>wind_direction</th>\n",
       "      <th>sky</th>\n",
       "      <th>total_runs</th>\n",
       "      <th>game_hours_dec</th>\n",
       "      <th>season</th>\n",
       "      <th>home_team_win</th>\n",
       "      <th>home_team_loss</th>\n",
       "      <th>home_team_outcome</th>\n",
       "    </tr>\n",
       "  </thead>\n",
       "  <tbody>\n",
       "    <tr>\n",
       "      <th>2026</th>\n",
       "      <td>21753</td>\n",
       "      <td>San Francisco Giants</td>\n",
       "      <td>0</td>\n",
       "      <td>8</td>\n",
       "      <td>3</td>\n",
       "      <td>2016-05-13</td>\n",
       "      <td>on grass</td>\n",
       "      <td>Night Game</td>\n",
       "      <td>Arizona Diamondbacks</td>\n",
       "      <td>0</td>\n",
       "      <td>...</td>\n",
       "      <td>38.33</td>\n",
       "      <td>9.0</td>\n",
       "      <td>in unknown direction</td>\n",
       "      <td>Sunny</td>\n",
       "      <td>4</td>\n",
       "      <td>3.0</td>\n",
       "      <td>regular season</td>\n",
       "      <td>0</td>\n",
       "      <td>1</td>\n",
       "      <td>0</td>\n",
       "    </tr>\n",
       "  </tbody>\n",
       "</table>\n",
       "<p>1 rows × 25 columns</p>\n",
       "</div>"
      ],
      "text/plain": [
       "      attendance             away_team  away_team_errors  away_team_hits  \\\n",
       "2026       21753  San Francisco Giants                 0               8   \n",
       "\n",
       "      away_team_runs       date field_type   game_type             home_team  \\\n",
       "2026               3 2016-05-13   on grass  Night Game  Arizona Diamondbacks   \n",
       "\n",
       "      home_team_errors  ...  temperature  wind_speed         wind_direction  \\\n",
       "2026                 0  ...        38.33         9.0   in unknown direction   \n",
       "\n",
       "        sky total_runs  game_hours_dec          season home_team_win  \\\n",
       "2026  Sunny          4             3.0  regular season             0   \n",
       "\n",
       "     home_team_loss  home_team_outcome  \n",
       "2026              1                  0  \n",
       "\n",
       "[1 rows x 25 columns]"
      ]
     },
     "execution_count": 23,
     "metadata": {},
     "output_type": "execute_result"
    }
   ],
   "source": [
    "# Find the highest temperature during the entire season\n",
    "# Use max() on 'temperature' for the games played in the regular season (mask_season)\n",
    "select_by_condition(df.loc[mask_season], 'temperature', max)"
   ]
  },
  {
   "cell_type": "markdown",
   "metadata": {},
   "source": [
    "<font color='darkblue'>\n",
    "The game <b>San Francisco Giants vs Arizona Diamondbacks</b> was played at a temperature of 38.33°C and was the warmest game of the entire season.\n",
    "</font>"
   ]
  },
  {
   "cell_type": "markdown",
   "metadata": {
    "pycharm": {
     "name": "#%% md\n"
    }
   },
   "source": [
    "# 4. Which game in the season had the longest duration?"
   ]
  },
  {
   "cell_type": "code",
   "execution_count": 24,
   "metadata": {
    "pycharm": {
     "name": "#%%\n"
    }
   },
   "outputs": [
    {
     "name": "stdout",
     "output_type": "stream",
     "text": [
      "max для game_hours_dec : 6.216666666666667\n"
     ]
    },
    {
     "data": {
      "text/html": [
       "<div>\n",
       "<style scoped>\n",
       "    .dataframe tbody tr th:only-of-type {\n",
       "        vertical-align: middle;\n",
       "    }\n",
       "\n",
       "    .dataframe tbody tr th {\n",
       "        vertical-align: top;\n",
       "    }\n",
       "\n",
       "    .dataframe thead th {\n",
       "        text-align: right;\n",
       "    }\n",
       "</style>\n",
       "<table border=\"1\" class=\"dataframe\">\n",
       "  <thead>\n",
       "    <tr style=\"text-align: right;\">\n",
       "      <th></th>\n",
       "      <th>attendance</th>\n",
       "      <th>away_team</th>\n",
       "      <th>away_team_errors</th>\n",
       "      <th>away_team_hits</th>\n",
       "      <th>away_team_runs</th>\n",
       "      <th>date</th>\n",
       "      <th>field_type</th>\n",
       "      <th>game_type</th>\n",
       "      <th>home_team</th>\n",
       "      <th>home_team_errors</th>\n",
       "      <th>...</th>\n",
       "      <th>temperature</th>\n",
       "      <th>wind_speed</th>\n",
       "      <th>wind_direction</th>\n",
       "      <th>sky</th>\n",
       "      <th>total_runs</th>\n",
       "      <th>game_hours_dec</th>\n",
       "      <th>season</th>\n",
       "      <th>home_team_win</th>\n",
       "      <th>home_team_loss</th>\n",
       "      <th>home_team_outcome</th>\n",
       "    </tr>\n",
       "  </thead>\n",
       "  <tbody>\n",
       "    <tr>\n",
       "      <th>1445</th>\n",
       "      <td>45825</td>\n",
       "      <td>Cleveland Indians</td>\n",
       "      <td>0</td>\n",
       "      <td>15</td>\n",
       "      <td>2</td>\n",
       "      <td>2016-07-01</td>\n",
       "      <td>on turf</td>\n",
       "      <td>Day Game</td>\n",
       "      <td>Toronto Blue Jays</td>\n",
       "      <td>2</td>\n",
       "      <td>...</td>\n",
       "      <td>20.0</td>\n",
       "      <td>0.0</td>\n",
       "      <td>in unknown direction</td>\n",
       "      <td>In Dome</td>\n",
       "      <td>3</td>\n",
       "      <td>6.216667</td>\n",
       "      <td>regular season</td>\n",
       "      <td>0</td>\n",
       "      <td>1</td>\n",
       "      <td>0</td>\n",
       "    </tr>\n",
       "  </tbody>\n",
       "</table>\n",
       "<p>1 rows × 25 columns</p>\n",
       "</div>"
      ],
      "text/plain": [
       "      attendance          away_team  away_team_errors  away_team_hits  \\\n",
       "1445       45825  Cleveland Indians                 0              15   \n",
       "\n",
       "      away_team_runs       date field_type game_type          home_team  \\\n",
       "1445               2 2016-07-01    on turf  Day Game  Toronto Blue Jays   \n",
       "\n",
       "      home_team_errors  ...  temperature  wind_speed         wind_direction  \\\n",
       "1445                 2  ...         20.0         0.0   in unknown direction   \n",
       "\n",
       "          sky total_runs  game_hours_dec          season home_team_win  \\\n",
       "1445  In Dome          3        6.216667  regular season             0   \n",
       "\n",
       "     home_team_loss  home_team_outcome  \n",
       "1445              1                  0  \n",
       "\n",
       "[1 rows x 25 columns]"
      ]
     },
     "execution_count": 24,
     "metadata": {},
     "output_type": "execute_result"
    }
   ],
   "source": [
    "# Find the longest game of the entire season\n",
    "# Use max() on 'game_hours_dec' for the games played in the regular season (mask_season)\n",
    "select_by_condition(df.loc[mask_season], 'game_hours_dec', max)"
   ]
  },
  {
   "cell_type": "markdown",
   "metadata": {
    "tags": []
   },
   "source": [
    "<font color='darkblue'>\n",
    "The game <b>Cleveland Indians vs Toronto Blue Jays</b> was the longest in duration, lasting 6.22 hours.\n",
    "</font>"
   ]
  },
  {
   "cell_type": "markdown",
   "metadata": {
    "pycharm": {
     "name": "#%% md\n"
    }
   },
   "source": [
    "# 5. Which game in the season had the shortest duration?"
   ]
  },
  {
   "cell_type": "code",
   "execution_count": 25,
   "metadata": {
    "pycharm": {
     "name": "#%%\n"
    }
   },
   "outputs": [
    {
     "name": "stdout",
     "output_type": "stream",
     "text": [
      "min для game_hours_dec : 1.25\n"
     ]
    },
    {
     "data": {
      "text/html": [
       "<div>\n",
       "<style scoped>\n",
       "    .dataframe tbody tr th:only-of-type {\n",
       "        vertical-align: middle;\n",
       "    }\n",
       "\n",
       "    .dataframe tbody tr th {\n",
       "        vertical-align: top;\n",
       "    }\n",
       "\n",
       "    .dataframe thead th {\n",
       "        text-align: right;\n",
       "    }\n",
       "</style>\n",
       "<table border=\"1\" class=\"dataframe\">\n",
       "  <thead>\n",
       "    <tr style=\"text-align: right;\">\n",
       "      <th></th>\n",
       "      <th>attendance</th>\n",
       "      <th>away_team</th>\n",
       "      <th>away_team_errors</th>\n",
       "      <th>away_team_hits</th>\n",
       "      <th>away_team_runs</th>\n",
       "      <th>date</th>\n",
       "      <th>field_type</th>\n",
       "      <th>game_type</th>\n",
       "      <th>home_team</th>\n",
       "      <th>home_team_errors</th>\n",
       "      <th>...</th>\n",
       "      <th>temperature</th>\n",
       "      <th>wind_speed</th>\n",
       "      <th>wind_direction</th>\n",
       "      <th>sky</th>\n",
       "      <th>total_runs</th>\n",
       "      <th>game_hours_dec</th>\n",
       "      <th>season</th>\n",
       "      <th>home_team_win</th>\n",
       "      <th>home_team_loss</th>\n",
       "      <th>home_team_outcome</th>\n",
       "    </tr>\n",
       "  </thead>\n",
       "  <tbody>\n",
       "    <tr>\n",
       "      <th>423</th>\n",
       "      <td>19991</td>\n",
       "      <td>Chicago Cubs</td>\n",
       "      <td>1</td>\n",
       "      <td>4</td>\n",
       "      <td>1</td>\n",
       "      <td>2016-09-29</td>\n",
       "      <td>on grass</td>\n",
       "      <td>Night Game</td>\n",
       "      <td>Pittsburgh Pirates</td>\n",
       "      <td>0</td>\n",
       "      <td>...</td>\n",
       "      <td>17.22</td>\n",
       "      <td>12.0</td>\n",
       "      <td>in from Leftfield</td>\n",
       "      <td>Overcast</td>\n",
       "      <td>2</td>\n",
       "      <td>1.25</td>\n",
       "      <td>regular season</td>\n",
       "      <td>0</td>\n",
       "      <td>0</td>\n",
       "      <td>0</td>\n",
       "    </tr>\n",
       "  </tbody>\n",
       "</table>\n",
       "<p>1 rows × 25 columns</p>\n",
       "</div>"
      ],
      "text/plain": [
       "     attendance     away_team  away_team_errors  away_team_hits  \\\n",
       "423       19991  Chicago Cubs                 1               4   \n",
       "\n",
       "     away_team_runs       date field_type   game_type           home_team  \\\n",
       "423               1 2016-09-29   on grass  Night Game  Pittsburgh Pirates   \n",
       "\n",
       "     home_team_errors  ...  temperature  wind_speed      wind_direction  \\\n",
       "423                 0  ...        17.22        12.0   in from Leftfield   \n",
       "\n",
       "          sky total_runs  game_hours_dec          season home_team_win  \\\n",
       "423  Overcast          2            1.25  regular season             0   \n",
       "\n",
       "    home_team_loss  home_team_outcome  \n",
       "423              0                  0  \n",
       "\n",
       "[1 rows x 25 columns]"
      ]
     },
     "execution_count": 25,
     "metadata": {},
     "output_type": "execute_result"
    }
   ],
   "source": [
    "# Find the shortest game of the entire season\n",
    "# Use min() on 'game_hours_dec' for the games played in the regular season (mask_season)\n",
    "select_by_condition(df.loc[mask_season], 'game_hours_dec', min)"
   ]
  },
  {
   "cell_type": "markdown",
   "metadata": {},
   "source": [
    "<font color='darkblue'>\n",
    "The game <b>Chicago Cubs vs Pittsburgh Pirates</b> was the shortest in duration, lasting 1.25 hours.\n",
    "</font>"
   ]
  },
  {
   "cell_type": "markdown",
   "metadata": {
    "pycharm": {
     "name": "#%% md\n"
    }
   },
   "source": [
    "# 6. How many games in the season ended in a tie?"
   ]
  },
  {
   "cell_type": "markdown",
   "metadata": {},
   "source": [
    "<font color='darkblue'>\n",
    "    In baseball, there are <b>NO</b> ties.\n",
    "</font>"
   ]
  },
  {
   "cell_type": "code",
   "execution_count": 26,
   "metadata": {
    "pycharm": {
     "name": "#%%\n"
    }
   },
   "outputs": [
    {
     "data": {
      "text/plain": [
       "home_team_outcome\n",
       "1    1287\n",
       "0    1141\n",
       "Name: count, dtype: int64"
      ]
     },
     "execution_count": 26,
     "metadata": {},
     "output_type": "execute_result"
    }
   ],
   "source": [
    "# But let's double-check just in case)))\n",
    "# First, select the games played in the regular season (mask_season)\n",
    "# Then use value_counts() to see the number of outcomes for home teams\n",
    "df.loc[mask_season]['home_team_outcome'].value_counts()"
   ]
  },
  {
   "cell_type": "markdown",
   "metadata": {
    "tags": []
   },
   "source": [
    "<font color='darkblue'>\n",
    "    Thus, in the 2016 season, there were 1,287 wins, 1,141 losses, and, as expected, <b>0 ties</b> for the home teams.\n",
    "</font>"
   ]
  },
  {
   "cell_type": "code",
   "execution_count": 27,
   "metadata": {
    "tags": []
   },
   "outputs": [
    {
     "data": {
      "text/plain": [
       "1"
      ]
     },
     "execution_count": 27,
     "metadata": {},
     "output_type": "execute_result"
    }
   ],
   "source": [
    "# Find the number of games where the home team neither won nor lost\n",
    "sum((df['home_team_win'] == 0) & (df['home_team_loss'] == 0))"
   ]
  },
  {
   "cell_type": "markdown",
   "metadata": {
    "tags": []
   },
   "source": [
    "<font color='darkblue'>\n",
    "    Thus, in the 2016 season, there was <b>1</b> strange game in which the home team neither won nor lost. This game was canceled due to weather conditions.\n",
    "</font>"
   ]
  },
  {
   "cell_type": "markdown",
   "metadata": {
    "pycharm": {
     "name": "#%% md\n"
    }
   },
   "source": [
    "# 7. Which game was the last one of the season?"
   ]
  },
  {
   "cell_type": "code",
   "execution_count": 28,
   "metadata": {
    "pycharm": {
     "name": "#%%\n"
    }
   },
   "outputs": [
    {
     "data": {
      "text/html": [
       "<div>\n",
       "<style scoped>\n",
       "    .dataframe tbody tr th:only-of-type {\n",
       "        vertical-align: middle;\n",
       "    }\n",
       "\n",
       "    .dataframe tbody tr th {\n",
       "        vertical-align: top;\n",
       "    }\n",
       "\n",
       "    .dataframe thead th {\n",
       "        text-align: right;\n",
       "    }\n",
       "</style>\n",
       "<table border=\"1\" class=\"dataframe\">\n",
       "  <thead>\n",
       "    <tr style=\"text-align: right;\">\n",
       "      <th></th>\n",
       "      <th>attendance</th>\n",
       "      <th>away_team</th>\n",
       "      <th>away_team_errors</th>\n",
       "      <th>away_team_hits</th>\n",
       "      <th>away_team_runs</th>\n",
       "      <th>date</th>\n",
       "      <th>field_type</th>\n",
       "      <th>game_type</th>\n",
       "      <th>home_team</th>\n",
       "      <th>home_team_errors</th>\n",
       "      <th>...</th>\n",
       "      <th>temperature</th>\n",
       "      <th>wind_speed</th>\n",
       "      <th>wind_direction</th>\n",
       "      <th>sky</th>\n",
       "      <th>total_runs</th>\n",
       "      <th>game_hours_dec</th>\n",
       "      <th>season</th>\n",
       "      <th>home_team_win</th>\n",
       "      <th>home_team_loss</th>\n",
       "      <th>home_team_outcome</th>\n",
       "    </tr>\n",
       "  </thead>\n",
       "  <tbody>\n",
       "    <tr>\n",
       "      <th>395</th>\n",
       "      <td>36787</td>\n",
       "      <td>Toronto Blue Jays</td>\n",
       "      <td>0</td>\n",
       "      <td>9</td>\n",
       "      <td>2</td>\n",
       "      <td>2016-10-02</td>\n",
       "      <td>on grass</td>\n",
       "      <td>Day Game</td>\n",
       "      <td>Boston Red Sox</td>\n",
       "      <td>1</td>\n",
       "      <td>...</td>\n",
       "      <td>13.33</td>\n",
       "      <td>6.0</td>\n",
       "      <td>out to Leftfield</td>\n",
       "      <td>Unknown</td>\n",
       "      <td>3</td>\n",
       "      <td>3.233333</td>\n",
       "      <td>regular season</td>\n",
       "      <td>0</td>\n",
       "      <td>1</td>\n",
       "      <td>0</td>\n",
       "    </tr>\n",
       "  </tbody>\n",
       "</table>\n",
       "<p>1 rows × 25 columns</p>\n",
       "</div>"
      ],
      "text/plain": [
       "     attendance          away_team  away_team_errors  away_team_hits  \\\n",
       "395       36787  Toronto Blue Jays                 0               9   \n",
       "\n",
       "     away_team_runs       date field_type game_type       home_team  \\\n",
       "395               2 2016-10-02   on grass  Day Game  Boston Red Sox   \n",
       "\n",
       "     home_team_errors  ...  temperature  wind_speed     wind_direction  \\\n",
       "395                 1  ...        13.33         6.0   out to Leftfield   \n",
       "\n",
       "         sky total_runs  game_hours_dec          season home_team_win  \\\n",
       "395  Unknown          3        3.233333  regular season             0   \n",
       "\n",
       "    home_team_loss  home_team_outcome  \n",
       "395              1                  0  \n",
       "\n",
       "[1 rows x 25 columns]"
      ]
     },
     "execution_count": 28,
     "metadata": {},
     "output_type": "execute_result"
    }
   ],
   "source": [
    "# To do this, select the games played in the regular season (mask_season)\n",
    "# Sort the 'date' using sort_values() in descending order (ascending=False)\n",
    "df.loc[mask_season].sort_values(['date', 'start_time'], ascending=[False, False]).head(1)"
   ]
  },
  {
   "cell_type": "markdown",
   "metadata": {
    "tags": []
   },
   "source": [
    "<font color='darkblue'>\n",
    "    The game <b>Toronto Blue Jays vs Boston Red Sox</b> was played on 2016-10-02 at 15:17:00 and  \n",
    "    was the last game of the season.\n",
    "</font>"
   ]
  },
  {
   "cell_type": "markdown",
   "metadata": {
    "pycharm": {
     "name": "#%% md\n"
    }
   },
   "source": [
    "# 8. Which game had the lowest number of spectators?"
   ]
  },
  {
   "cell_type": "code",
   "execution_count": 29,
   "metadata": {
    "pycharm": {
     "name": "#%%\n"
    }
   },
   "outputs": [
    {
     "name": "stdout",
     "output_type": "stream",
     "text": [
      "min для attendance : 8766\n"
     ]
    },
    {
     "data": {
      "text/html": [
       "<div>\n",
       "<style scoped>\n",
       "    .dataframe tbody tr th:only-of-type {\n",
       "        vertical-align: middle;\n",
       "    }\n",
       "\n",
       "    .dataframe tbody tr th {\n",
       "        vertical-align: top;\n",
       "    }\n",
       "\n",
       "    .dataframe thead th {\n",
       "        text-align: right;\n",
       "    }\n",
       "</style>\n",
       "<table border=\"1\" class=\"dataframe\">\n",
       "  <thead>\n",
       "    <tr style=\"text-align: right;\">\n",
       "      <th></th>\n",
       "      <th>attendance</th>\n",
       "      <th>away_team</th>\n",
       "      <th>away_team_errors</th>\n",
       "      <th>away_team_hits</th>\n",
       "      <th>away_team_runs</th>\n",
       "      <th>date</th>\n",
       "      <th>field_type</th>\n",
       "      <th>game_type</th>\n",
       "      <th>home_team</th>\n",
       "      <th>home_team_errors</th>\n",
       "      <th>...</th>\n",
       "      <th>temperature</th>\n",
       "      <th>wind_speed</th>\n",
       "      <th>wind_direction</th>\n",
       "      <th>sky</th>\n",
       "      <th>total_runs</th>\n",
       "      <th>game_hours_dec</th>\n",
       "      <th>season</th>\n",
       "      <th>home_team_win</th>\n",
       "      <th>home_team_loss</th>\n",
       "      <th>home_team_outcome</th>\n",
       "    </tr>\n",
       "  </thead>\n",
       "  <tbody>\n",
       "    <tr>\n",
       "      <th>2130</th>\n",
       "      <td>8766</td>\n",
       "      <td>Detroit Tigers</td>\n",
       "      <td>0</td>\n",
       "      <td>5</td>\n",
       "      <td>0</td>\n",
       "      <td>2016-05-04</td>\n",
       "      <td>on grass</td>\n",
       "      <td>Night Game</td>\n",
       "      <td>Cleveland Indians</td>\n",
       "      <td>0</td>\n",
       "      <td>...</td>\n",
       "      <td>12.22</td>\n",
       "      <td>11.0</td>\n",
       "      <td>from Left to Right</td>\n",
       "      <td>Overcast</td>\n",
       "      <td>4</td>\n",
       "      <td>2.316667</td>\n",
       "      <td>regular season</td>\n",
       "      <td>1</td>\n",
       "      <td>0</td>\n",
       "      <td>1</td>\n",
       "    </tr>\n",
       "  </tbody>\n",
       "</table>\n",
       "<p>1 rows × 25 columns</p>\n",
       "</div>"
      ],
      "text/plain": [
       "      attendance       away_team  away_team_errors  away_team_hits  \\\n",
       "2130        8766  Detroit Tigers                 0               5   \n",
       "\n",
       "      away_team_runs       date field_type   game_type          home_team  \\\n",
       "2130               0 2016-05-04   on grass  Night Game  Cleveland Indians   \n",
       "\n",
       "      home_team_errors  ...  temperature  wind_speed       wind_direction  \\\n",
       "2130                 0  ...        12.22        11.0   from Left to Right   \n",
       "\n",
       "           sky total_runs  game_hours_dec          season home_team_win  \\\n",
       "2130  Overcast          4        2.316667  regular season             1   \n",
       "\n",
       "     home_team_loss  home_team_outcome  \n",
       "2130              0                  1  \n",
       "\n",
       "[1 rows x 25 columns]"
      ]
     },
     "execution_count": 29,
     "metadata": {},
     "output_type": "execute_result"
    }
   ],
   "source": [
    "# Select games with the lowest number of spectators\n",
    "# Use min() on 'attendance' across all games\n",
    "select_by_condition(df, 'attendance', min)"
   ]
  },
  {
   "cell_type": "markdown",
   "metadata": {},
   "source": [
    "<font color='darkblue'>\n",
    "    The game <b>Detroit Tigers vs Cleveland Indians</b> had the lowest number of spectators (8,766).\n",
    "</font>"
   ]
  },
  {
   "cell_type": "markdown",
   "metadata": {
    "pycharm": {
     "name": "#%% md\n"
    }
   },
   "source": [
    "# 9. Which game in the season was the windiest?"
   ]
  },
  {
   "cell_type": "code",
   "execution_count": 30,
   "metadata": {
    "pycharm": {
     "name": "#%%\n"
    }
   },
   "outputs": [
    {
     "name": "stdout",
     "output_type": "stream",
     "text": [
      "max для wind_speed : 25.0\n"
     ]
    },
    {
     "data": {
      "text/html": [
       "<div>\n",
       "<style scoped>\n",
       "    .dataframe tbody tr th:only-of-type {\n",
       "        vertical-align: middle;\n",
       "    }\n",
       "\n",
       "    .dataframe tbody tr th {\n",
       "        vertical-align: top;\n",
       "    }\n",
       "\n",
       "    .dataframe thead th {\n",
       "        text-align: right;\n",
       "    }\n",
       "</style>\n",
       "<table border=\"1\" class=\"dataframe\">\n",
       "  <thead>\n",
       "    <tr style=\"text-align: right;\">\n",
       "      <th></th>\n",
       "      <th>attendance</th>\n",
       "      <th>away_team</th>\n",
       "      <th>away_team_errors</th>\n",
       "      <th>away_team_hits</th>\n",
       "      <th>away_team_runs</th>\n",
       "      <th>date</th>\n",
       "      <th>field_type</th>\n",
       "      <th>game_type</th>\n",
       "      <th>home_team</th>\n",
       "      <th>home_team_errors</th>\n",
       "      <th>...</th>\n",
       "      <th>temperature</th>\n",
       "      <th>wind_speed</th>\n",
       "      <th>wind_direction</th>\n",
       "      <th>sky</th>\n",
       "      <th>total_runs</th>\n",
       "      <th>game_hours_dec</th>\n",
       "      <th>season</th>\n",
       "      <th>home_team_win</th>\n",
       "      <th>home_team_loss</th>\n",
       "      <th>home_team_outcome</th>\n",
       "    </tr>\n",
       "  </thead>\n",
       "  <tbody>\n",
       "    <tr>\n",
       "      <th>1655</th>\n",
       "      <td>41543</td>\n",
       "      <td>Milwaukee Brewers</td>\n",
       "      <td>1</td>\n",
       "      <td>11</td>\n",
       "      <td>5</td>\n",
       "      <td>2016-06-13</td>\n",
       "      <td>on grass</td>\n",
       "      <td>Night Game</td>\n",
       "      <td>San Francisco Giants</td>\n",
       "      <td>0</td>\n",
       "      <td>...</td>\n",
       "      <td>14.44</td>\n",
       "      <td>25.0</td>\n",
       "      <td>out to Centerfield</td>\n",
       "      <td>Cloudy</td>\n",
       "      <td>16</td>\n",
       "      <td>3.633333</td>\n",
       "      <td>regular season</td>\n",
       "      <td>1</td>\n",
       "      <td>0</td>\n",
       "      <td>1</td>\n",
       "    </tr>\n",
       "    <tr>\n",
       "      <th>2005</th>\n",
       "      <td>35736</td>\n",
       "      <td>Houston Astros</td>\n",
       "      <td>2</td>\n",
       "      <td>8</td>\n",
       "      <td>9</td>\n",
       "      <td>2016-05-15</td>\n",
       "      <td>on grass</td>\n",
       "      <td>Day Game</td>\n",
       "      <td>Boston Red Sox</td>\n",
       "      <td>3</td>\n",
       "      <td>...</td>\n",
       "      <td>14.44</td>\n",
       "      <td>25.0</td>\n",
       "      <td>out to Rightfield</td>\n",
       "      <td>Cloudy</td>\n",
       "      <td>19</td>\n",
       "      <td>3.666667</td>\n",
       "      <td>regular season</td>\n",
       "      <td>1</td>\n",
       "      <td>0</td>\n",
       "      <td>1</td>\n",
       "    </tr>\n",
       "  </tbody>\n",
       "</table>\n",
       "<p>2 rows × 25 columns</p>\n",
       "</div>"
      ],
      "text/plain": [
       "      attendance          away_team  away_team_errors  away_team_hits  \\\n",
       "1655       41543  Milwaukee Brewers                 1              11   \n",
       "2005       35736     Houston Astros                 2               8   \n",
       "\n",
       "      away_team_runs       date field_type   game_type             home_team  \\\n",
       "1655               5 2016-06-13   on grass  Night Game  San Francisco Giants   \n",
       "2005               9 2016-05-15   on grass    Day Game        Boston Red Sox   \n",
       "\n",
       "      home_team_errors  ...  temperature  wind_speed       wind_direction  \\\n",
       "1655                 0  ...        14.44        25.0   out to Centerfield   \n",
       "2005                 3  ...        14.44        25.0    out to Rightfield   \n",
       "\n",
       "         sky total_runs  game_hours_dec          season home_team_win  \\\n",
       "1655  Cloudy         16        3.633333  regular season             1   \n",
       "2005  Cloudy         19        3.666667  regular season             1   \n",
       "\n",
       "     home_team_loss  home_team_outcome  \n",
       "1655              0                  1  \n",
       "2005              0                  1  \n",
       "\n",
       "[2 rows x 25 columns]"
      ]
     },
     "execution_count": 30,
     "metadata": {},
     "output_type": "execute_result"
    }
   ],
   "source": [
    "# Find max() for 'wind_speed' in the games played during the regular season (mask_season)\n",
    "select_by_condition(df.loc[mask_season], 'wind_speed', max)"
   ]
  },
  {
   "cell_type": "markdown",
   "metadata": {},
   "source": [
    "<font color='darkblue'>\n",
    "    The maximum wind speed during the entire season was 25.0.  \n",
    "    <br>Two games were played under such conditions:  \n",
    "    <br><b>Milwaukee Brewers vs San Francisco Giants</b>  \n",
    "    <br><b>Houston Astros vs Boston Red Sox</b>\n",
    "</font>"
   ]
  },
  {
   "cell_type": "markdown",
   "metadata": {
    "pycharm": {
     "name": "#%% md\n"
    }
   },
   "source": [
    "# 10. In which game was the highest number of total runs scored?"
   ]
  },
  {
   "cell_type": "code",
   "execution_count": 31,
   "metadata": {
    "pycharm": {
     "name": "#%%\n"
    }
   },
   "outputs": [
    {
     "name": "stdout",
     "output_type": "stream",
     "text": [
      "max для all_runs : 29\n"
     ]
    },
    {
     "data": {
      "text/html": [
       "<div>\n",
       "<style scoped>\n",
       "    .dataframe tbody tr th:only-of-type {\n",
       "        vertical-align: middle;\n",
       "    }\n",
       "\n",
       "    .dataframe tbody tr th {\n",
       "        vertical-align: top;\n",
       "    }\n",
       "\n",
       "    .dataframe thead th {\n",
       "        text-align: right;\n",
       "    }\n",
       "</style>\n",
       "<table border=\"1\" class=\"dataframe\">\n",
       "  <thead>\n",
       "    <tr style=\"text-align: right;\">\n",
       "      <th></th>\n",
       "      <th>attendance</th>\n",
       "      <th>away_team</th>\n",
       "      <th>away_team_errors</th>\n",
       "      <th>away_team_hits</th>\n",
       "      <th>away_team_runs</th>\n",
       "      <th>date</th>\n",
       "      <th>field_type</th>\n",
       "      <th>game_type</th>\n",
       "      <th>home_team</th>\n",
       "      <th>home_team_errors</th>\n",
       "      <th>...</th>\n",
       "      <th>wind_speed</th>\n",
       "      <th>wind_direction</th>\n",
       "      <th>sky</th>\n",
       "      <th>total_runs</th>\n",
       "      <th>game_hours_dec</th>\n",
       "      <th>season</th>\n",
       "      <th>home_team_win</th>\n",
       "      <th>home_team_loss</th>\n",
       "      <th>home_team_outcome</th>\n",
       "      <th>all_runs</th>\n",
       "    </tr>\n",
       "  </thead>\n",
       "  <tbody>\n",
       "    <tr>\n",
       "      <th>1788</th>\n",
       "      <td>22588</td>\n",
       "      <td>Seattle Mariners</td>\n",
       "      <td>1</td>\n",
       "      <td>16</td>\n",
       "      <td>16</td>\n",
       "      <td>2016-06-02</td>\n",
       "      <td>on grass</td>\n",
       "      <td>Night Game</td>\n",
       "      <td>San Diego Padres</td>\n",
       "      <td>1</td>\n",
       "      <td>...</td>\n",
       "      <td>10.0</td>\n",
       "      <td>out to Rightfield</td>\n",
       "      <td>Sunny</td>\n",
       "      <td>29</td>\n",
       "      <td>3.833333</td>\n",
       "      <td>regular season</td>\n",
       "      <td>0</td>\n",
       "      <td>1</td>\n",
       "      <td>0</td>\n",
       "      <td>29</td>\n",
       "    </tr>\n",
       "  </tbody>\n",
       "</table>\n",
       "<p>1 rows × 26 columns</p>\n",
       "</div>"
      ],
      "text/plain": [
       "      attendance         away_team  away_team_errors  away_team_hits  \\\n",
       "1788       22588  Seattle Mariners                 1              16   \n",
       "\n",
       "      away_team_runs       date field_type   game_type         home_team  \\\n",
       "1788              16 2016-06-02   on grass  Night Game  San Diego Padres   \n",
       "\n",
       "      home_team_errors  ...  wind_speed      wind_direction    sky total_runs  \\\n",
       "1788                 1  ...        10.0   out to Rightfield  Sunny         29   \n",
       "\n",
       "     game_hours_dec          season  home_team_win home_team_loss  \\\n",
       "1788       3.833333  regular season              0              1   \n",
       "\n",
       "     home_team_outcome  all_runs  \n",
       "1788                 0        29  \n",
       "\n",
       "[1 rows x 26 columns]"
      ]
     },
     "execution_count": 31,
     "metadata": {},
     "output_type": "execute_result"
    }
   ],
   "source": [
    "# Runs in baseball are called \"runs\", so we need to calculate the sum of away_team_runs and home_team_runs\n",
    "# This will give us the total number of runs per game (we'll sum the columns), then select the max of that sum\n",
    "# This new column will also be useful for question 20\n",
    "df['all_runs'] = df['away_team_runs'] + df['home_team_runs']\n",
    "# Find max() for 'all_runs' across all games\n",
    "select_by_condition(df, 'all_runs', max)"
   ]
  },
  {
   "cell_type": "markdown",
   "metadata": {
    "tags": []
   },
   "source": [
    "<font color='darkblue'>\n",
    "    The game <b>Seattle Mariners vs San Diego Padres</b> had the highest number of total runs scored (29).\n",
    "</font>"
   ]
  },
  {
   "cell_type": "markdown",
   "metadata": {
    "pycharm": {
     "name": "#%% md\n"
    }
   },
   "source": [
    "# 11. Which game had the highest number of errors made by the home team?"
   ]
  },
  {
   "cell_type": "code",
   "execution_count": 32,
   "metadata": {
    "pycharm": {
     "name": "#%%\n"
    }
   },
   "outputs": [
    {
     "name": "stdout",
     "output_type": "stream",
     "text": [
      "max для home_team_errors : 5\n"
     ]
    },
    {
     "data": {
      "text/html": [
       "<div>\n",
       "<style scoped>\n",
       "    .dataframe tbody tr th:only-of-type {\n",
       "        vertical-align: middle;\n",
       "    }\n",
       "\n",
       "    .dataframe tbody tr th {\n",
       "        vertical-align: top;\n",
       "    }\n",
       "\n",
       "    .dataframe thead th {\n",
       "        text-align: right;\n",
       "    }\n",
       "</style>\n",
       "<table border=\"1\" class=\"dataframe\">\n",
       "  <thead>\n",
       "    <tr style=\"text-align: right;\">\n",
       "      <th></th>\n",
       "      <th>attendance</th>\n",
       "      <th>away_team</th>\n",
       "      <th>away_team_errors</th>\n",
       "      <th>away_team_hits</th>\n",
       "      <th>away_team_runs</th>\n",
       "      <th>date</th>\n",
       "      <th>field_type</th>\n",
       "      <th>game_type</th>\n",
       "      <th>home_team</th>\n",
       "      <th>home_team_errors</th>\n",
       "      <th>...</th>\n",
       "      <th>wind_speed</th>\n",
       "      <th>wind_direction</th>\n",
       "      <th>sky</th>\n",
       "      <th>total_runs</th>\n",
       "      <th>game_hours_dec</th>\n",
       "      <th>season</th>\n",
       "      <th>home_team_win</th>\n",
       "      <th>home_team_loss</th>\n",
       "      <th>home_team_outcome</th>\n",
       "      <th>all_runs</th>\n",
       "    </tr>\n",
       "  </thead>\n",
       "  <tbody>\n",
       "    <tr>\n",
       "      <th>1178</th>\n",
       "      <td>22581</td>\n",
       "      <td>Arizona Diamondbacks</td>\n",
       "      <td>1</td>\n",
       "      <td>11</td>\n",
       "      <td>8</td>\n",
       "      <td>2016-07-27</td>\n",
       "      <td>on grass</td>\n",
       "      <td>Night Game</td>\n",
       "      <td>Milwaukee Brewers</td>\n",
       "      <td>5</td>\n",
       "      <td>...</td>\n",
       "      <td>9.0</td>\n",
       "      <td>in from Leftfield</td>\n",
       "      <td>Cloudy</td>\n",
       "      <td>9</td>\n",
       "      <td>2.933333</td>\n",
       "      <td>regular season</td>\n",
       "      <td>0</td>\n",
       "      <td>1</td>\n",
       "      <td>0</td>\n",
       "      <td>9</td>\n",
       "    </tr>\n",
       "  </tbody>\n",
       "</table>\n",
       "<p>1 rows × 26 columns</p>\n",
       "</div>"
      ],
      "text/plain": [
       "      attendance             away_team  away_team_errors  away_team_hits  \\\n",
       "1178       22581  Arizona Diamondbacks                 1              11   \n",
       "\n",
       "      away_team_runs       date field_type   game_type          home_team  \\\n",
       "1178               8 2016-07-27   on grass  Night Game  Milwaukee Brewers   \n",
       "\n",
       "      home_team_errors  ...  wind_speed      wind_direction     sky  \\\n",
       "1178                 5  ...         9.0   in from Leftfield  Cloudy   \n",
       "\n",
       "     total_runs game_hours_dec          season  home_team_win home_team_loss  \\\n",
       "1178          9       2.933333  regular season              0              1   \n",
       "\n",
       "     home_team_outcome  all_runs  \n",
       "1178                 0         9  \n",
       "\n",
       "[1 rows x 26 columns]"
      ]
     },
     "execution_count": 32,
     "metadata": {},
     "output_type": "execute_result"
    }
   ],
   "source": [
    "# Find max() for 'home_team_errors' across all games\n",
    "select_by_condition(df, 'home_team_errors', max)"
   ]
  },
  {
   "cell_type": "markdown",
   "metadata": {},
   "source": [
    "<font color='darkblue'>\n",
    "    The game <b>Arizona Diamondbacks vs Milwaukee Brewers</b> had the highest number of errors made by the home team (5).\n",
    "</font>"
   ]
  },
  {
   "cell_type": "markdown",
   "metadata": {
    "pycharm": {
     "name": "#%% md\n"
    }
   },
   "source": [
    "# 12. In which game was the highest number of hits?"
   ]
  },
  {
   "cell_type": "code",
   "execution_count": 33,
   "metadata": {
    "pycharm": {
     "name": "#%%\n"
    }
   },
   "outputs": [
    {
     "data": {
      "text/html": [
       "<div>\n",
       "<style scoped>\n",
       "    .dataframe tbody tr th:only-of-type {\n",
       "        vertical-align: middle;\n",
       "    }\n",
       "\n",
       "    .dataframe tbody tr th {\n",
       "        vertical-align: top;\n",
       "    }\n",
       "\n",
       "    .dataframe thead th {\n",
       "        text-align: right;\n",
       "    }\n",
       "</style>\n",
       "<table border=\"1\" class=\"dataframe\">\n",
       "  <thead>\n",
       "    <tr style=\"text-align: right;\">\n",
       "      <th></th>\n",
       "      <th>attendance</th>\n",
       "      <th>away_team</th>\n",
       "      <th>away_team_errors</th>\n",
       "      <th>away_team_hits</th>\n",
       "      <th>away_team_runs</th>\n",
       "      <th>date</th>\n",
       "      <th>field_type</th>\n",
       "      <th>game_type</th>\n",
       "      <th>home_team</th>\n",
       "      <th>home_team_errors</th>\n",
       "      <th>...</th>\n",
       "      <th>wind_speed</th>\n",
       "      <th>wind_direction</th>\n",
       "      <th>sky</th>\n",
       "      <th>total_runs</th>\n",
       "      <th>game_hours_dec</th>\n",
       "      <th>season</th>\n",
       "      <th>home_team_win</th>\n",
       "      <th>home_team_loss</th>\n",
       "      <th>home_team_outcome</th>\n",
       "      <th>all_runs</th>\n",
       "    </tr>\n",
       "  </thead>\n",
       "  <tbody>\n",
       "    <tr>\n",
       "      <th>1413</th>\n",
       "      <td>36253</td>\n",
       "      <td>Texas Rangers</td>\n",
       "      <td>0</td>\n",
       "      <td>16</td>\n",
       "      <td>5</td>\n",
       "      <td>2016-07-04</td>\n",
       "      <td>on grass</td>\n",
       "      <td>Day Game</td>\n",
       "      <td>Boston Red Sox</td>\n",
       "      <td>2</td>\n",
       "      <td>...</td>\n",
       "      <td>11.0</td>\n",
       "      <td>out to Centerfield</td>\n",
       "      <td>Cloudy</td>\n",
       "      <td>17</td>\n",
       "      <td>3.666667</td>\n",
       "      <td>regular season</td>\n",
       "      <td>1</td>\n",
       "      <td>0</td>\n",
       "      <td>1</td>\n",
       "      <td>17</td>\n",
       "    </tr>\n",
       "  </tbody>\n",
       "</table>\n",
       "<p>1 rows × 26 columns</p>\n",
       "</div>"
      ],
      "text/plain": [
       "      attendance      away_team  away_team_errors  away_team_hits  \\\n",
       "1413       36253  Texas Rangers                 0              16   \n",
       "\n",
       "      away_team_runs       date field_type game_type       home_team  \\\n",
       "1413               5 2016-07-04   on grass  Day Game  Boston Red Sox   \n",
       "\n",
       "      home_team_errors  ...  wind_speed       wind_direction     sky  \\\n",
       "1413                 2  ...        11.0   out to Centerfield  Cloudy   \n",
       "\n",
       "     total_runs game_hours_dec          season  home_team_win home_team_loss  \\\n",
       "1413         17       3.666667  regular season              1              0   \n",
       "\n",
       "     home_team_outcome  all_runs  \n",
       "1413                 1        17  \n",
       "\n",
       "[1 rows x 26 columns]"
      ]
     },
     "execution_count": 33,
     "metadata": {},
     "output_type": "execute_result"
    }
   ],
   "source": [
    "# Calculate the sum of away_team_hits and home_team_hits (create a new column)\n",
    "# Then find the max of that sum\n",
    "df[(df['away_team_hits'] + df['home_team_hits']) == (df['away_team_hits'] + df['home_team_hits']).max()]"
   ]
  },
  {
   "cell_type": "markdown",
   "metadata": {
    "tags": []
   },
   "source": [
    "<font color='darkblue'>\n",
    "    The game <b>Texas Rangers vs Boston Red Sox</b> had the highest number of hits (37).\n",
    "</font>"
   ]
  },
  {
   "cell_type": "markdown",
   "metadata": {
    "pycharm": {
     "name": "#%% md\n"
    }
   },
   "source": [
    "# 13. Display the number of games each team played during the regular season"
   ]
  },
  {
   "cell_type": "code",
   "execution_count": 34,
   "metadata": {
    "pycharm": {
     "name": "#%%\n"
    }
   },
   "outputs": [
    {
     "data": {
      "text/plain": [
       "Arizona Diamondbacks             162\n",
       "Atlanta Braves                   161\n",
       "Baltimore Orioles                162\n",
       "Boston Red Sox                   162\n",
       "Chicago Cubs                     162\n",
       "Chicago White Sox                162\n",
       "Cincinnati Reds                  162\n",
       "Cleveland Indians                161\n",
       "Colorado Rockies                 162\n",
       "Detroit Tigers                   161\n",
       "Houston Astros                   162\n",
       "Kansas City Royals               162\n",
       "Los Angeles Angels of Anaheim    162\n",
       "Los Angeles Dodgers              162\n",
       "Miami Marlins                    161\n",
       "Milwaukee Brewers                162\n",
       "Minnesota Twins                  162\n",
       "New York Mets                    162\n",
       "New York Yankees                 162\n",
       "Oakland Athletics                162\n",
       "Philadelphia Phillies            162\n",
       "Pittsburgh Pirates               162\n",
       "San Diego Padres                 162\n",
       "San Francisco Giants             162\n",
       "Seattle Mariners                 162\n",
       "St. Louis Cardinals              162\n",
       "Tampa Bay Rays                   162\n",
       "Texas Rangers                    162\n",
       "Toronto Blue Jays                162\n",
       "Washington Nationals             162\n",
       "dtype: int64"
      ]
     },
     "execution_count": 34,
     "metadata": {},
     "output_type": "execute_result"
    }
   ],
   "source": [
    "# Select games played in the regular season (mask_season)\n",
    "# Count the number of games for 'away_team' and 'home_team' using value_counts\n",
    "# Sum the results using sum(axis=1)\n",
    "df.loc[mask_season][['away_team', 'home_team']].apply(pd.Series.value_counts).sum(axis=1)"
   ]
  },
  {
   "cell_type": "markdown",
   "metadata": {
    "pycharm": {
     "name": "#%% md\n"
    }
   },
   "source": [
    "# 14. Which team won the highest number of games during the season? (Be careful to consider only regular season games)"
   ]
  },
  {
   "cell_type": "code",
   "execution_count": 35,
   "metadata": {
    "pycharm": {
     "name": "#%%\n"
    }
   },
   "outputs": [
    {
     "data": {
      "text/plain": [
       "team        \n",
       "Chicago Cubs    104\n",
       "Name: count, dtype: int64"
      ]
     },
     "execution_count": 35,
     "metadata": {},
     "output_type": "execute_result"
    }
   ],
   "source": [
    "# Create an array to store which team won each game\n",
    "# If 'home_team_outcome' is 0, then the away team won\n",
    "# If 'home_team_outcome' is 1, then the home team won\n",
    "conditions = [\n",
    "    (df['home_team_outcome'] == 0),\n",
    "    (df['home_team_outcome'] == 1),\n",
    "]\n",
    "choices = [df['away_team'], df['home_team']]\n",
    "\n",
    "# Use np.select to create the array\n",
    "win_arr = np.select(conditions, choices)\n",
    "\n",
    "# Create a new DataFrame, filter by regular season (mask_season), and count occurrences using value_counts\n",
    "pd.DataFrame(win_arr, columns=['team'])[mask_season].value_counts(sort=True).head(1)"
   ]
  },
  {
   "cell_type": "markdown",
   "metadata": {
    "tags": []
   },
   "source": [
    "<font color='darkblue'>\n",
    "The <b>Chicago Cubs</b> won the highest number of games in the season (104), thus breaking the Curse of the Billy Goat.\n",
    "</font>"
   ]
  },
  {
   "cell_type": "markdown",
   "metadata": {
    "pycharm": {
     "name": "#%% md\n"
    }
   },
   "source": [
    "# 15. Which team won the highest number of home games during the season?"
   ]
  },
  {
   "cell_type": "code",
   "execution_count": 36,
   "metadata": {
    "pycharm": {
     "name": "#%%\n"
    }
   },
   "outputs": [
    {
     "data": {
      "text/plain": [
       "home_team\n",
       "Chicago Cubs    57\n",
       "Name: count, dtype: int64"
      ]
     },
     "execution_count": 36,
     "metadata": {},
     "output_type": "execute_result"
    }
   ],
   "source": [
    "# Select all games in the regular season (mask_season) where the home team won (home_team_outcome == 1),\n",
    "# then count the number of wins per home_team using value_counts()\n",
    "df[mask_season & (df['home_team_outcome'] == 1)]['home_team'].value_counts(sort=True).head(1)"
   ]
  },
  {
   "cell_type": "markdown",
   "metadata": {
    "tags": []
   },
   "source": [
    "<font color='darkblue'>\n",
    "The <b>Chicago Cubs</b> won the highest number of home games during the season (57).\n",
    "</font>"
   ]
  },
  {
   "cell_type": "markdown",
   "metadata": {
    "pycharm": {
     "name": "#%% md\n"
    }
   },
   "source": [
    "# 16. Which team won the highest number of away games during the season?"
   ]
  },
  {
   "cell_type": "code",
   "execution_count": 37,
   "metadata": {
    "pycharm": {
     "name": "#%%\n"
    }
   },
   "outputs": [
    {
     "data": {
      "text/plain": [
       "away_team\n",
       "St. Louis Cardinals    48\n",
       "Name: count, dtype: int64"
      ]
     },
     "execution_count": 37,
     "metadata": {},
     "output_type": "execute_result"
    }
   ],
   "source": [
    "# Select all games in the regular season where the home team lost (home_team_outcome == 0),\n",
    "# meaning the away team won (an away victory),\n",
    "# then count the number of away wins per away_team using value_counts()\n",
    "df[mask_season & (df['home_team_outcome'] == 0)]['away_team'].value_counts(sort=True).head(1)"
   ]
  },
  {
   "cell_type": "markdown",
   "metadata": {},
   "source": [
    "<font color='darkblue'>\n",
    "The <b>St. Louis Cardinals</b> won the highest number of away games during the season (48).\n",
    "</font>"
   ]
  },
  {
   "cell_type": "markdown",
   "metadata": {
    "pycharm": {
     "name": "#%% md\n"
    }
   },
   "source": [
    "# 17. Which team lost the highest number of games during the season?"
   ]
  },
  {
   "cell_type": "code",
   "execution_count": 38,
   "metadata": {
    "pycharm": {
     "name": "#%%\n"
    }
   },
   "outputs": [
    {
     "data": {
      "text/plain": [
       "team           \n",
       "Minnesota Twins    103\n",
       "Name: count, dtype: int64"
      ]
     },
     "execution_count": 38,
     "metadata": {},
     "output_type": "execute_result"
    }
   ],
   "source": [
    "# Create an array to store which team lost each game\n",
    "# If 'home_team_outcome' is 0, the home team lost\n",
    "# If 'home_team_outcome' is 1, the away team lost\n",
    "conditions = [\n",
    "    (df['home_team_outcome'] == 0),\n",
    "    (df['home_team_outcome'] == 1)\n",
    "]\n",
    "choices = [df['home_team'], df['away_team']]\n",
    "\n",
    "# Use np.select to create the array\n",
    "loss_arr = np.select(conditions, choices)\n",
    "\n",
    "# Create a new DataFrame, filter by regular season (mask_season), and count losses with value_counts\n",
    "pd.DataFrame(loss_arr, columns=['team'])[mask_season].value_counts(sort=True).head(1)"
   ]
  },
  {
   "cell_type": "markdown",
   "metadata": {
    "tags": []
   },
   "source": [
    "<font color='darkblue'>\n",
    "The <b>Minnesota Twins</b> lost the highest number of games during the season (103).\n",
    "</font>"
   ]
  },
  {
   "cell_type": "markdown",
   "metadata": {
    "pycharm": {
     "name": "#%% md\n"
    }
   },
   "source": [
    "# 18. Does the outcome of a game (win) depend on the number of spectators?  \n",
    "# (see pandas.DataFrame.cov for covariance calculation)"
   ]
  },
  {
   "cell_type": "code",
   "execution_count": 39,
   "metadata": {
    "pycharm": {
     "name": "#%%\n"
    }
   },
   "outputs": [
    {
     "data": {
      "text/html": [
       "<div>\n",
       "<style scoped>\n",
       "    .dataframe tbody tr th:only-of-type {\n",
       "        vertical-align: middle;\n",
       "    }\n",
       "\n",
       "    .dataframe tbody tr th {\n",
       "        vertical-align: top;\n",
       "    }\n",
       "\n",
       "    .dataframe thead th {\n",
       "        text-align: right;\n",
       "    }\n",
       "</style>\n",
       "<table border=\"1\" class=\"dataframe\">\n",
       "  <thead>\n",
       "    <tr style=\"text-align: right;\">\n",
       "      <th></th>\n",
       "      <th>attendance</th>\n",
       "      <th>home_team_outcome</th>\n",
       "    </tr>\n",
       "  </thead>\n",
       "  <tbody>\n",
       "    <tr>\n",
       "      <th>attendance</th>\n",
       "      <td>9.740607e+07</td>\n",
       "      <td>224.736752</td>\n",
       "    </tr>\n",
       "    <tr>\n",
       "      <th>home_team_outcome</th>\n",
       "      <td>2.247368e+02</td>\n",
       "      <td>0.249235</td>\n",
       "    </tr>\n",
       "  </tbody>\n",
       "</table>\n",
       "</div>"
      ],
      "text/plain": [
       "                     attendance  home_team_outcome\n",
       "attendance         9.740607e+07         224.736752\n",
       "home_team_outcome  2.247368e+02           0.249235"
      ]
     },
     "metadata": {},
     "output_type": "display_data"
    }
   ],
   "source": [
    "# Build the covariance matrix for 'attendance' and 'home_team_outcome'\n",
    "cov_matrix = df[['attendance', 'home_team_outcome']].cov(numeric_only=True)\n",
    "display(cov_matrix)"
   ]
  },
  {
   "cell_type": "markdown",
   "metadata": {},
   "source": [
    "<font color='darkblue'>\n",
    "The covariance (224.736752) shows that the values in the columns tend to change in the same direction,  \n",
    "but the magnitude of this number alone is not informative without normalization, as it depends on the units of measurement.\n",
    "</font>"
   ]
  },
  {
   "cell_type": "code",
   "execution_count": 40,
   "metadata": {
    "tags": []
   },
   "outputs": [
    {
     "data": {
      "text/html": [
       "<div>\n",
       "<style scoped>\n",
       "    .dataframe tbody tr th:only-of-type {\n",
       "        vertical-align: middle;\n",
       "    }\n",
       "\n",
       "    .dataframe tbody tr th {\n",
       "        vertical-align: top;\n",
       "    }\n",
       "\n",
       "    .dataframe thead th {\n",
       "        text-align: right;\n",
       "    }\n",
       "</style>\n",
       "<table border=\"1\" class=\"dataframe\">\n",
       "  <thead>\n",
       "    <tr style=\"text-align: right;\">\n",
       "      <th></th>\n",
       "      <th>attendance</th>\n",
       "      <th>home_team_outcome</th>\n",
       "    </tr>\n",
       "  </thead>\n",
       "  <tbody>\n",
       "    <tr>\n",
       "      <th>attendance</th>\n",
       "      <td>1.000000</td>\n",
       "      <td>0.045612</td>\n",
       "    </tr>\n",
       "    <tr>\n",
       "      <th>home_team_outcome</th>\n",
       "      <td>0.045612</td>\n",
       "      <td>1.000000</td>\n",
       "    </tr>\n",
       "  </tbody>\n",
       "</table>\n",
       "</div>"
      ],
      "text/plain": [
       "                   attendance  home_team_outcome\n",
       "attendance           1.000000           0.045612\n",
       "home_team_outcome    0.045612           1.000000"
      ]
     },
     "metadata": {},
     "output_type": "display_data"
    }
   ],
   "source": [
    "# Build the correlation matrix for 'attendance' and 'home_team_outcome'\n",
    "cor_matrix = df[['attendance', 'home_team_outcome']].corr(numeric_only=True)\n",
    "display(cor_matrix)"
   ]
  },
  {
   "cell_type": "markdown",
   "metadata": {},
   "source": [
    "<font color='darkblue'>\n",
    "The correlation of 0.045612 indicates a very weak positive linear relationship.  \n",
    "A correlation value close to 0 means that changes in one column have almost no effect on the values in the other.  \n",
    "<br><b>Conclusion</b>  \n",
    "<br>  \n",
    "Although there may be a slight tendency for 'attendance' and 'home_team_outcome' to change in the same direction (positive covariance),  \n",
    "the correlation magnitude (close to 0) shows that a linear relationship is practically absent.\n",
    "</font>"
   ]
  },
  {
   "cell_type": "markdown",
   "metadata": {
    "pycharm": {
     "name": "#%% md\n"
    }
   },
   "source": [
    "# 19. Is it true that most home losses occur on Saturdays and Sundays?"
   ]
  },
  {
   "cell_type": "code",
   "execution_count": 41,
   "metadata": {
    "pycharm": {
     "name": "#%%\n"
    }
   },
   "outputs": [
    {
     "data": {
      "text/plain": [
       "day_of_week\n",
       "Sunday       190\n",
       "Tuesday      187\n",
       "Friday       184\n",
       "Saturday     175\n",
       "Wednesday    167\n",
       "Monday       131\n",
       "Thursday     125\n",
       "Name: count, dtype: int64"
      ]
     },
     "execution_count": 41,
     "metadata": {},
     "output_type": "execute_result"
    }
   ],
   "source": [
    "# Check home losses (where 'home_team_outcome' == 0)\n",
    "# and count occurrences by 'day_of_week' using value_counts()\n",
    "df[df['home_team_outcome'] == 0]['day_of_week'].value_counts()"
   ]
  },
  {
   "cell_type": "markdown",
   "metadata": {},
   "source": [
    "<font color='darkblue'>\n",
    "No, the majority of lost <b>home</b> games occur on <b>Sunday</b> (190) and <b>Tuesday</b> (187).\n",
    "</font>"
   ]
  },
  {
   "cell_type": "markdown",
   "metadata": {
    "pycharm": {
     "name": "#%% md\n"
    }
   },
   "source": [
    "# 20. Is it true that the highest number of runs occurs in cold weather?  \n",
    "# (Cold weather is defined as temperatures below 0 degrees Celsius)"
   ]
  },
  {
   "cell_type": "code",
   "execution_count": 42,
   "metadata": {
    "pycharm": {
     "name": "#%%\n"
    }
   },
   "outputs": [
    {
     "data": {
      "text/html": [
       "<div>\n",
       "<style scoped>\n",
       "    .dataframe tbody tr th:only-of-type {\n",
       "        vertical-align: middle;\n",
       "    }\n",
       "\n",
       "    .dataframe tbody tr th {\n",
       "        vertical-align: top;\n",
       "    }\n",
       "\n",
       "    .dataframe thead th {\n",
       "        text-align: right;\n",
       "    }\n",
       "</style>\n",
       "<table border=\"1\" class=\"dataframe\">\n",
       "  <thead>\n",
       "    <tr style=\"text-align: right;\">\n",
       "      <th></th>\n",
       "      <th>all_runs</th>\n",
       "      <th>temperature</th>\n",
       "    </tr>\n",
       "  </thead>\n",
       "  <tbody>\n",
       "    <tr>\n",
       "      <th>1788</th>\n",
       "      <td>29</td>\n",
       "      <td>24.44</td>\n",
       "    </tr>\n",
       "    <tr>\n",
       "      <th>881</th>\n",
       "      <td>27</td>\n",
       "      <td>24.44</td>\n",
       "    </tr>\n",
       "    <tr>\n",
       "      <th>1475</th>\n",
       "      <td>24</td>\n",
       "      <td>15.00</td>\n",
       "    </tr>\n",
       "    <tr>\n",
       "      <th>2052</th>\n",
       "      <td>24</td>\n",
       "      <td>29.44</td>\n",
       "    </tr>\n",
       "    <tr>\n",
       "      <th>1562</th>\n",
       "      <td>24</td>\n",
       "      <td>26.11</td>\n",
       "    </tr>\n",
       "  </tbody>\n",
       "</table>\n",
       "</div>"
      ],
      "text/plain": [
       "      all_runs  temperature\n",
       "1788        29        24.44\n",
       "881         27        24.44\n",
       "1475        24        15.00\n",
       "2052        24        29.44\n",
       "1562        24        26.11"
      ]
     },
     "execution_count": 42,
     "metadata": {},
     "output_type": "execute_result"
    }
   ],
   "source": [
    "# Sort by total number of runs and check the corresponding temperatures\n",
    "df.sort_values('all_runs', ascending=False).head(5)[['all_runs', 'temperature']]"
   ]
  },
  {
   "cell_type": "code",
   "execution_count": 43,
   "metadata": {
    "tags": []
   },
   "outputs": [
    {
     "data": {
      "text/html": [
       "<div>\n",
       "<style scoped>\n",
       "    .dataframe tbody tr th:only-of-type {\n",
       "        vertical-align: middle;\n",
       "    }\n",
       "\n",
       "    .dataframe tbody tr th {\n",
       "        vertical-align: top;\n",
       "    }\n",
       "\n",
       "    .dataframe thead th {\n",
       "        text-align: right;\n",
       "    }\n",
       "</style>\n",
       "<table border=\"1\" class=\"dataframe\">\n",
       "  <thead>\n",
       "    <tr style=\"text-align: right;\">\n",
       "      <th></th>\n",
       "      <th>all_runs</th>\n",
       "      <th>temperature</th>\n",
       "    </tr>\n",
       "  </thead>\n",
       "  <tbody>\n",
       "    <tr>\n",
       "      <th>2409</th>\n",
       "      <td>12</td>\n",
       "      <td>-0.56</td>\n",
       "    </tr>\n",
       "    <tr>\n",
       "      <th>2412</th>\n",
       "      <td>10</td>\n",
       "      <td>0.00</td>\n",
       "    </tr>\n",
       "    <tr>\n",
       "      <th>2445</th>\n",
       "      <td>8</td>\n",
       "      <td>1.11</td>\n",
       "    </tr>\n",
       "    <tr>\n",
       "      <th>10</th>\n",
       "      <td>8</td>\n",
       "      <td>2.22</td>\n",
       "    </tr>\n",
       "    <tr>\n",
       "      <th>2422</th>\n",
       "      <td>4</td>\n",
       "      <td>3.33</td>\n",
       "    </tr>\n",
       "  </tbody>\n",
       "</table>\n",
       "</div>"
      ],
      "text/plain": [
       "      all_runs  temperature\n",
       "2409        12        -0.56\n",
       "2412        10         0.00\n",
       "2445         8         1.11\n",
       "10           8         2.22\n",
       "2422         4         3.33"
      ]
     },
     "execution_count": 43,
     "metadata": {},
     "output_type": "execute_result"
    }
   ],
   "source": [
    "# Look at the number of runs during low temperatures\n",
    "df.sort_values('temperature', ascending=True).head(5)[['all_runs', 'temperature']]"
   ]
  },
  {
   "cell_type": "markdown",
   "metadata": {
    "tags": []
   },
   "source": [
    "<font color='darkblue'>\n",
    "No, that is not true. Based on the available data, the highest number of runs <b>does not occur</b> in cold weather.  \n",
    "<br>Moreover, there is only one game in the data that took place at a temperature below zero.\n",
    "</font>"
   ]
  },
  {
   "cell_type": "code",
   "execution_count": null,
   "metadata": {},
   "outputs": [],
   "source": []
  }
 ],
 "metadata": {
  "kernelspec": {
   "display_name": "Python 3 (ipykernel)",
   "language": "python",
   "name": "python3"
  },
  "language_info": {
   "codemirror_mode": {
    "name": "ipython",
    "version": 3
   },
   "file_extension": ".py",
   "mimetype": "text/x-python",
   "name": "python",
   "nbconvert_exporter": "python",
   "pygments_lexer": "ipython3",
   "version": "3.12.7"
  }
 },
 "nbformat": 4,
 "nbformat_minor": 4
}
