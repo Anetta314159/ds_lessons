{
 "cells": [
  {
   "cell_type": "markdown",
   "id": "16edf826-0d75-4335-85e2-ffa29625f99c",
   "metadata": {},
   "source": [
    "# Time Series Analysis and Forecasting"
   ]
  },
  {
   "cell_type": "markdown",
   "id": "5f2fcb42-f91f-4294-b574-cc5fc24c29c6",
   "metadata": {},
   "source": [
    "### Task 1:"
   ]
  },
  {
   "cell_type": "markdown",
   "id": "c223da61-bf0b-4af0-860b-8f6f534fb383",
   "metadata": {},
   "source": [
    "Выберите 2 любые компании, которые имеют листинг на фондовом рынке США. Выгрузите дневные данные начиная с 2017 по настоящее время по этим 2-м компаниям и сформируйте датасет для временного ряда (итого у вас 2 датасета). \n",
    "<br><b>Цель задания</b> - проведите исследование и статистический анализ временного ряда по сформированным датасетам, посчитайте все основные статистики для временного ряда, превратите ваши временные ряды в стационарные и сформируйте отчет с выводами и визуализациями в jupyter notebook’e.\n",
    "\n",
    "Без отчета с подкрепленными выводами задание считается проваленным (то есть ноутбук с кодом и картинками мне не присылать).\n",
    "\n",
    "Итоговая оценка за правильно выполненное задание: <b>3 балла</b>.\n"
   ]
  },
  {
   "cell_type": "markdown",
   "id": "a4dae436-7f25-4386-b99d-8c9295ce386c",
   "metadata": {},
   "source": [
    "<div style='background-color: lightblue; padding: 10px; border-radius: 10px;'>\n",
    "    <h4 style='color: darkblue;'> yfinance</h4>\n",
    "</div>"
   ]
  },
  {
   "cell_type": "code",
   "execution_count": null,
   "id": "c872ba9d-8c4b-47a1-89b1-a09578f27ce5",
   "metadata": {},
   "outputs": [],
   "source": [
    "import yfinance as yf\n",
    "import pandas as pd"
   ]
  },
  {
   "cell_type": "markdown",
   "id": "2e694755-2a15-451a-9069-2d55d6a02cc5",
   "metadata": {},
   "source": [
    "Выберем две компании и скачаем данные с 2017, используя библиотеку yfinance."
   ]
  },
  {
   "cell_type": "code",
   "execution_count": null,
   "id": "6b6a402d-875a-4bd9-a164-bbfce80591df",
   "metadata": {},
   "outputs": [],
   "source": [
    "# Компании\n",
    "companies = {\n",
    "    'EPAM': 'EPAM Systems, Inc.',\n",
    "    'AAPL': 'Apple Inc.'\n",
    "}"
   ]
  },
  {
   "cell_type": "code",
   "execution_count": null,
   "id": "fe5b3b18-e41f-41c6-9b5d-f24803d2c04a",
   "metadata": {},
   "outputs": [],
   "source": [
    "# Даты\n",
    "start_date = '2017-01-01'\n",
    "end_date = '2025-04-29'"
   ]
  },
  {
   "cell_type": "code",
   "execution_count": null,
   "id": "1b49db59-38b2-44d2-8e4f-348678c630af",
   "metadata": {},
   "outputs": [],
   "source": [
    "# Скачивание данных\n",
    "data = {}\n",
    "for ticker in companies:\n",
    "    df = yf.download(ticker, start=start_date, end=end_date)\n",
    "    df.to_csv(f'{ticker}_daily_data.csv')  # Сохраняем в файл\n",
    "    data[ticker] = df"
   ]
  },
  {
   "cell_type": "code",
   "execution_count": null,
   "id": "a7299c0e-dda2-4f28-bf19-d7f1d6f24373",
   "metadata": {},
   "outputs": [],
   "source": [
    "df.head()"
   ]
  },
  {
   "cell_type": "markdown",
   "id": "06c8e5b6-bd5e-4e07-a913-3739f8e175e4",
   "metadata": {},
   "source": [
    "Оставим только цену закрытия торгов, это самый репрезентативный показатель и упростит анализ)"
   ]
  },
  {
   "cell_type": "code",
   "execution_count": null,
   "id": "4ea35eb3-f13b-448e-86da-dc7f3ef2384f",
   "metadata": {},
   "outputs": [],
   "source": [
    "# Оставляем только закрытие\n",
    "close_data = {ticker: df[['Close']] for ticker, df in data.items()}"
   ]
  },
  {
   "cell_type": "code",
   "execution_count": null,
   "id": "96941c2c-68d1-4b84-8d14-af7c5adf7d05",
   "metadata": {},
   "outputs": [],
   "source": [
    "df = pd.concat(close_data, axis=1)\n",
    "df.columns = ['EPAM', 'AAPL']"
   ]
  },
  {
   "cell_type": "markdown",
   "id": "8ecf78ea-0a6a-48fe-86e4-0fb71cee6f8a",
   "metadata": {},
   "source": [
    "<div style='background-color: lightblue; padding: 10px; border-radius: 10px;'>\n",
    "    <h4 style='color: darkblue;'> Dataset</h4>\n",
    "</div>"
   ]
  },
  {
   "cell_type": "code",
   "execution_count": null,
   "id": "11058829-1a98-4436-bcc9-24e116eb0726",
   "metadata": {},
   "outputs": [],
   "source": [
    "import matplotlib.pyplot as plt"
   ]
  },
  {
   "cell_type": "code",
   "execution_count": null,
   "id": "9934bb2a-dbb7-43bc-be60-3a190a4b0657",
   "metadata": {},
   "outputs": [],
   "source": [
    "df.head()"
   ]
  },
  {
   "cell_type": "code",
   "execution_count": null,
   "id": "6c97ef64-7de9-4747-ab5e-ac773d25d803",
   "metadata": {},
   "outputs": [],
   "source": [
    "df.info()"
   ]
  },
  {
   "cell_type": "code",
   "execution_count": null,
   "id": "6a4e0d0f-5b11-4393-a668-5f08bf302a77",
   "metadata": {},
   "outputs": [],
   "source": [
    "df.to_csv('closing_price.csv')"
   ]
  },
  {
   "cell_type": "markdown",
   "id": "f2506c6f-88e7-4240-aac3-efc1066d82b6",
   "metadata": {},
   "source": [
    "У нас теперь есть датафрейм с ценами закрытия акций EPAM и AAPL с 2017 года по сегодняшний день."
   ]
  },
  {
   "cell_type": "code",
   "execution_count": null,
   "id": "f1a1a8a3-868e-4219-8e0b-743df7989dae",
   "metadata": {},
   "outputs": [],
   "source": [
    "plt.figure(figsize=(14, 6))\n",
    "# EPAM\n",
    "plt.plot(df.index, df['EPAM'], label='EPAM', alpha=0.7)\n",
    "# AAPL\n",
    "plt.plot(df.index, df['AAPL'], label='AAPL', alpha=0.7)\n",
    "plt.title('Закрытые цены акций EPAM и AAPL (2017-2025)', fontsize=16)\n",
    "plt.xlabel('Дата')\n",
    "plt.ylabel('Цена закрытия (USD)')\n",
    "plt.legend()\n",
    "plt.grid(True)\n",
    "plt.show()"
   ]
  },
  {
   "cell_type": "markdown",
   "id": "0b062b0b-ac01-4076-8bf5-aeaf5e098d66",
   "metadata": {},
   "source": [
    "<div style='background-color: lightblue; padding: 10px; border-radius: 10px;'>\n",
    "    <h4 style='color: darkblue;'> Statistics</h4>\n",
    "</div>"
   ]
  },
  {
   "cell_type": "code",
   "execution_count": null,
   "id": "706a4836-886c-485c-adf2-6697e5d8f456",
   "metadata": {},
   "outputs": [],
   "source": [
    "df.describe()"
   ]
  },
  {
   "cell_type": "code",
   "execution_count": null,
   "id": "0f29ba61-28d4-400e-90a3-f65f8f5912b1",
   "metadata": {},
   "outputs": [],
   "source": [
    "stats = df.describe().T\n",
    "print(f'coef_var: \\n{stats['std'] / stats['mean']}')"
   ]
  },
  {
   "cell_type": "code",
   "execution_count": null,
   "id": "271bedf2-23cf-4c31-8841-40e4f88942f6",
   "metadata": {},
   "outputs": [],
   "source": []
  },
  {
   "cell_type": "code",
   "execution_count": null,
   "id": "24b92082-e888-4914-adc3-53febf968229",
   "metadata": {},
   "outputs": [],
   "source": [
    "df_ma = df.copy()\n",
    "df_ma['EPAM_MA252'] = df['EPAM'].rolling(window=252).mean()\n",
    "df_ma['AAPL_MA252'] = df['AAPL'].rolling(window=252).mean()"
   ]
  },
  {
   "cell_type": "markdown",
   "id": "29dbdf29-d09c-4427-af53-5328cd362804",
   "metadata": {},
   "source": [
    "Используем скользящее среднее для выделения тренда. 252 биржевых дня - календарный биржевой год."
   ]
  },
  {
   "cell_type": "code",
   "execution_count": null,
   "id": "2ef6d8ef-d8b8-4c1a-b05e-87877fdf43c9",
   "metadata": {},
   "outputs": [],
   "source": [
    "plt.figure(figsize=(14, 6))\n",
    "plt.plot(df_ma.index, df_ma['EPAM'], label='EPAM', alpha=0.6)\n",
    "plt.plot(df_ma.index, df_ma['AAPL'], label='AAPL', alpha=0.6)\n",
    "plt.plot(df_ma.index, df_ma['EPAM_MA252'], label='EPAM (MA252)', linestyle='--')\n",
    "plt.plot(df_ma.index, df_ma['AAPL_MA252'], label='AAPL (MA252)', linestyle='--')\n",
    "\n",
    "plt.title('Закрытые цены и тренд (MA252) EPAM и AAPL (2017–2025)')\n",
    "plt.xlabel('Дата')\n",
    "plt.ylabel('Цена закрытия (USD)')\n",
    "plt.legend()\n",
    "plt.grid(True)\n",
    "plt.tight_layout()\n",
    "plt.show()"
   ]
  },
  {
   "cell_type": "markdown",
   "id": "058a87d9-d66a-47f1-9600-ac2b07c99835",
   "metadata": {},
   "source": [
    "<br>Средняя цена:\n",
    " - EPAM: 251.41 USD\n",
    " - AAPL: 115.65 USD\n",
    "\n",
    "<br>Стандартное отклонение (разброс цен):\n",
    " - EPAM: 138.98\n",
    " - AAPL: 65.08\n",
    "\n",
    "<br>Минимум - максимум:\n",
    " - EPAM: от 63.66 до 717.49 USD\n",
    " - AAPL: от 26.83 до 258.74 USD\n",
    "\n",
    "<br>Коэффициент вариации — показатель относительной волатильности:\n",
    " - EPAM: 0.55\n",
    " - AAPL: 0.56"
   ]
  },
  {
   "cell_type": "markdown",
   "id": "8cdde8e2-a042-4a4d-9591-9190e8621574",
   "metadata": {},
   "source": [
    "EPAM демонстрировал очень сильный рост до 2022 года, но затем вошёл в затяжной нисходящий тренд, отчасти сохранив высокую волатильность. AAPL показывает устойчивое и стабильное восходящее движение с умеренной волатильностью."
   ]
  },
  {
   "cell_type": "markdown",
   "id": "a39513ff-8ebb-451e-812b-3fae753b9fe1",
   "metadata": {},
   "source": [
    "<div style='background-color: lightblue; padding: 10px; border-radius: 10px;'>\n",
    "    <h4 style='color: darkblue;'> Augmented Dickey-Fuller test</h4>\n",
    "</div>"
   ]
  },
  {
   "cell_type": "code",
   "execution_count": null,
   "id": "f3e2c109-40ac-4395-bfbd-ee2ccc31a0bf",
   "metadata": {},
   "outputs": [],
   "source": [
    "from statsmodels.tsa.stattools import adfuller"
   ]
  },
  {
   "cell_type": "code",
   "execution_count": null,
   "id": "32bdcd4a-8196-4283-be17-fab180675c46",
   "metadata": {},
   "outputs": [],
   "source": [
    "def adf_test(series, title=''):\n",
    "    result = adfuller(series.dropna(), autolag='AIC')\n",
    "    labels = ['ADF Statistic', 'p-value', 'Lags Used', 'Observations Used']\n",
    "    out = pd.Series(result[0:4], index=labels)\n",
    "    for key, value in result[4].items():\n",
    "        out[f'Critical Value ({key})'] = value\n",
    "    return out"
   ]
  },
  {
   "cell_type": "code",
   "execution_count": null,
   "id": "cb4b8374-59fd-461a-9229-137e07ec1e04",
   "metadata": {},
   "outputs": [],
   "source": [
    "adf_results = {\n",
    "    'EPAM': adf_test(df['EPAM']),\n",
    "    'AAPL': adf_test(df['AAPL'])\n",
    "}"
   ]
  },
  {
   "cell_type": "code",
   "execution_count": null,
   "id": "03f135de-3291-420c-ad83-063455f146f1",
   "metadata": {},
   "outputs": [],
   "source": [
    "pd.DataFrame(adf_results)"
   ]
  },
  {
   "cell_type": "markdown",
   "id": "9d3ad018-7bda-4362-bb32-8979f5ee7abf",
   "metadata": {},
   "source": [
    "p-value > 0.05 для обеих компаний  -  ряд нестационарный. Это ожидаемо, потому что на графиках был виден явный тренд."
   ]
  },
  {
   "cell_type": "markdown",
   "id": "4932ad47-7d23-4c41-8c6b-87018c360b98",
   "metadata": {},
   "source": [
    "<div style='background-color: lightblue; padding: 10px; border-radius: 10px;'>\n",
    "    <h4 style='color: darkblue;'> Stationary</h4>\n",
    "</div>"
   ]
  },
  {
   "cell_type": "code",
   "execution_count": null,
   "id": "dbf4ca70-1426-4b4a-a1be-206b73d3bdac",
   "metadata": {},
   "outputs": [],
   "source": [
    "# Приведение к стационарному виду — первое дифференцирование\n",
    "df_diff = df.diff().dropna()"
   ]
  },
  {
   "cell_type": "code",
   "execution_count": null,
   "id": "59f7b14a-7186-46bb-be11-03d718475cef",
   "metadata": {},
   "outputs": [],
   "source": [
    "# Повторный тест Дики-Фуллера\n",
    "adf_results_diff = {\n",
    "    'EPAM_diff': adf_test(df_diff['EPAM']),\n",
    "    'AAPL_diff': adf_test(df_diff['AAPL'])\n",
    "}\n",
    "pd.DataFrame(adf_results_diff)"
   ]
  },
  {
   "cell_type": "markdown",
   "id": "c3002086-c064-4771-9b29-7aba9cef9750",
   "metadata": {},
   "source": [
    "p-value < 0.05 - ряд стационарный для обоих компаний"
   ]
  },
  {
   "cell_type": "code",
   "execution_count": null,
   "id": "1fc8f927-084a-4751-a613-ac163cad1c24",
   "metadata": {},
   "outputs": [],
   "source": [
    "plt.figure(figsize=(14, 6))\n",
    "plt.plot(df_diff.index, df_diff['EPAM'], label='EPAM (diff)', alpha=0.7)\n",
    "plt.plot(df_diff.index, df_diff['AAPL'], label='AAPL (diff)', alpha=0.7)\n",
    "plt.title('Стационарные ряды')\n",
    "plt.xlabel('Дата')\n",
    "plt.ylabel('Разность закрытия')\n",
    "plt.legend()\n",
    "plt.grid(True)\n",
    "plt.tight_layout()\n",
    "plt.show()"
   ]
  },
  {
   "cell_type": "markdown",
   "id": "eca7fbeb-87fc-4ac1-b6a1-0a55d326b333",
   "metadata": {},
   "source": [
    "<div style='background-color: lightblue; padding: 10px; border-radius: 10px;'>\n",
    "    <h4 style='color: darkblue;'> Auto correlations</h4>\n",
    "</div>"
   ]
  },
  {
   "cell_type": "code",
   "execution_count": null,
   "id": "c2fcded1-e043-40cf-87af-a47c66ee61a5",
   "metadata": {},
   "outputs": [],
   "source": [
    "from statsmodels.graphics.tsaplots import plot_acf, plot_pacf"
   ]
  },
  {
   "cell_type": "code",
   "execution_count": null,
   "id": "9cd32b47-a930-41c9-b74b-258d7eb9cb5b",
   "metadata": {},
   "outputs": [],
   "source": [
    "fig, axes = plt.subplots(2, 2, figsize=(14, 10))\n",
    "# EPAM ACF и PACF\n",
    "plot_acf(df_diff['EPAM'], ax=axes[0, 0], lags=40, title='EPAM - ACF')\n",
    "plot_pacf(df_diff['EPAM'], ax=axes[0, 1], lags=40, title='EPAM - PACF', method='ywm')\n",
    "# AAPL ACF и PACF\n",
    "plot_acf(df_diff['AAPL'], ax=axes[1, 0], lags=40, title='AAPL - ACF')\n",
    "plot_pacf(df_diff['AAPL'], ax=axes[1, 1], lags=40, title='AAPL - PACF', method='ywm')\n",
    "plt.tight_layout()\n",
    "plt.show()"
   ]
  },
  {
   "cell_type": "markdown",
   "id": "b8ca897f-107a-4ac5-8d79-8fc1edc2fd59",
   "metadata": {},
   "source": [
    "1. ACF (Autocorrelation Function) - полная автокорреляция. Показывает насколько текущее значение зависит от прошлых значений на разных лагах.\n",
    "    - EPAM: ACF затухает постепенно, 1 и 2 лаг положительный, 3- отрицательный.\n",
    "    - AAPL: ACF  обрывается быстро.\n",
    "3. PACF (Partial Autocorrelation Function — частичная автокорреляция. Показывает связь между текущим значением и лагом, не обращая внимания на промежуточные.\n",
    "    - EPAM: PACF показывает значимость на 1–2 лагах, затем обрывается.\n",
    "    - AAPL: PACF обрывается быстро."
   ]
  },
  {
   "cell_type": "markdown",
   "id": "f4c52bff-9393-4bae-b27e-42a8fadcc655",
   "metadata": {},
   "source": [
    "<div style='background-color: lightblue; padding: 10px; border-radius: 10px;'>\n",
    "    <h4 style='color: darkblue;'> Seasonality</h4>\n",
    "</div>"
   ]
  },
  {
   "cell_type": "code",
   "execution_count": null,
   "id": "8bbb341c-73c0-4d60-9d37-5cf57b47a446",
   "metadata": {},
   "outputs": [],
   "source": [
    "from statsmodels.tsa.seasonal import seasonal_decompose"
   ]
  },
  {
   "cell_type": "code",
   "execution_count": null,
   "id": "35619242-d376-48f1-b685-eb7ca39f506a",
   "metadata": {},
   "outputs": [],
   "source": [
    "# Период 252 — примерно количество торговых дней в году\n",
    "decomposition_epam = seasonal_decompose(df['EPAM'], model='additive', period=252)\n",
    "decomposition_aapl = seasonal_decompose(df['AAPL'], model='additive', period=252)"
   ]
  },
  {
   "cell_type": "code",
   "execution_count": null,
   "id": "8064a56e-ddc2-4937-a7d5-acfd3970b553",
   "metadata": {},
   "outputs": [],
   "source": [
    "fig_epam = decomposition_epam.plot()\n",
    "fig_epam.set_size_inches(14, 8)\n",
    "fig_epam.suptitle('Сезонная декомпозиция EPAM (период=252)', fontsize=16)\n",
    "plt.tight_layout()\n",
    "plt.show()"
   ]
  },
  {
   "cell_type": "markdown",
   "id": "035c25ee-5f46-47a6-8438-6e716279e67d",
   "metadata": {},
   "source": [
    "Trend:\n",
    " - С 2017 до конца 2021 наблюдается устойчивый рост.\n",
    " - После пика в начале 2022 года — тренд сменился на спад, что может быть связано с рыночными/внешними событиями (например, геополитика, санкции и т.д.)."
   ]
  },
  {
   "cell_type": "markdown",
   "id": "64948416-2161-44a5-b54e-cb64aefd3d30",
   "metadata": {},
   "source": [
    "Seasonal:\n",
    " - Есть повторяющаяся структура.\n",
    " - Сезонность стабильна по амплитуде (80 USD), не растёт и не падает вместе с трендом."
   ]
  },
  {
   "cell_type": "markdown",
   "id": "6103fab4-ca54-4fc9-a045-29a3619844ca",
   "metadata": {},
   "source": [
    "Residual:\n",
    " - Остатки довольно волатильны (особенно в 2022 году).\n",
    " - Это говорит о том, что в ряду есть внезапные отклонения, не объяснимые ни трендом, ни сезонностью."
   ]
  },
  {
   "cell_type": "code",
   "execution_count": null,
   "id": "e8697788-d5a9-42cb-b029-c1f57209c548",
   "metadata": {},
   "outputs": [],
   "source": [
    "fig_aapl = decomposition_aapl.plot()\n",
    "fig_aapl.set_size_inches(14, 8)\n",
    "fig_aapl.suptitle('Сезонная декомпозиция AAPL (период=252)', fontsize=16)\n",
    "plt.tight_layout()\n",
    "plt.show()"
   ]
  },
  {
   "cell_type": "markdown",
   "id": "441eb208-9f81-48ee-83e2-1b57bdad9ab6",
   "metadata": {},
   "source": [
    "Trend:\n",
    " - Чётко выражен устойчивый рост с 2017 до 2022.\n",
    " - С 2022 рост замедляется, но продолжается до 2025.\n",
    " - Длинный растущий тренд."
   ]
  },
  {
   "cell_type": "markdown",
   "id": "3799d27d-54cd-43bf-8153-2704b84ef2f1",
   "metadata": {},
   "source": [
    "Seasonal:\n",
    " - Есть годовая периодичность.\n",
    " - Сезонность стабильна по амплитуде (20 USD), не растёт и не падает вместе с трендом."
   ]
  },
  {
   "cell_type": "markdown",
   "id": "8a8c7ba4-0d86-4a9a-9599-50ef36acf774",
   "metadata": {},
   "source": [
    " Residual (остатки):\n",
    " - Распределены умеренно, но видно волатильность — особенно в 2022–2023 годах.\n",
    " - Это может отражать рыночные события, новости, отчёты, санкции и пр."
   ]
  },
  {
   "cell_type": "markdown",
   "id": "5af6a228-b8cb-4c39-af2b-2d90e8f56e41",
   "metadata": {},
   "source": [
    "Обе акции показывают общий тренд роста, но видно, что в разные периоды были спады и волатильность. AAPL показывает устойчивый рост без резких обвалов, даже в моменты рыночной нестабильности. Период 2022–2024 у AAPL наблюдается коррекция, но она более плавная и контролируемая, чем у EPAM. С 2020 по начало 2022 года акции EPAM выросли в несколько раз. Это может быть связано с пандемийным ИТ-бумом и высокой технологической востребованностью услуг компании. Однако в 2022 году последовал резкий обвал вероятно вероятно связанный с геополитическими рисками, переоценкой ИТ-компаний, общим спадом в секторе после пандемии. К 2025 году AAPL и EPAM находятся примерно на одном уровне по цене закрытия, хотя раньше EPAM значительно опережала. Возможно компания AAPL в прошлом была недооценена, и теперь цена акции корректируется, так же возможно, что компания EPAM была переоценена и также цена за акцию подвергается коррекции. "
   ]
  },
  {
   "cell_type": "markdown",
   "id": "eae41ade-483b-4bb0-9546-27d52d0881fa",
   "metadata": {},
   "source": [
    "# Task 2:"
   ]
  },
  {
   "cell_type": "markdown",
   "id": "3288b211-3981-46a8-831b-7d6d80f374ed",
   "metadata": {},
   "source": [
    "Выберите <b>1</b> из 2-ух временных рядов <b>из задания 1</b> и сделайте <b>прогноз на ближайший месяц-квартал-полугодие  и год</b>. Модель выбирать исходя из ваших предположений и умозаключений. Необходимо обосновать почему была выбрана та или иная модель и на каких основаниях, в чем она лучше и почему она подходит. Оценить качество прогноза согласно выбранной метрике, проверить качество на отложенной выборке путем применения TimeSeriesSplit. Сформировать отчет с выводами и визуализациями в jupyter notebook’e.\n",
    "\n",
    "Без отчета с подкрепленными выводами задание считается проваленным (то есть ноутбук с кодом и картинками мне не присылать).\n",
    "\n",
    "Итоговая оценка за правильно выполненное задание: <b>3 балла.</b>\n"
   ]
  },
  {
   "cell_type": "markdown",
   "id": "78db736c-f4e5-483c-bcce-81ec9d0c6c1b",
   "metadata": {},
   "source": [
    "<div style='background-color: lightblue; padding: 10px; border-radius: 10px;'>\n",
    "    <h4 style='color: darkblue;'> LinearRegression</h4>\n",
    "</div>"
   ]
  },
  {
   "cell_type": "markdown",
   "id": "0e6dc5de-09a4-4fd7-ab70-6acff89590e5",
   "metadata": {},
   "source": [
    "Для начала выберем линейную регрессию для прогнозирования временного ряда стоимости акциий компании Apple. Она хорошо подходит при наличии тренда, а так же быстро работает, не требует подбора гипер-параметров , что удобно при использовании кросс-валидации. Можно так же использовать как часть ансамбля для определения тренда, а в связке с XGBoost — для корректировки остатков."
   ]
  },
  {
   "cell_type": "code",
   "execution_count": null,
   "id": "7b6d1cd6-dbae-4ce6-9cef-850c6444b5d5",
   "metadata": {},
   "outputs": [],
   "source": [
    "import numpy as np\n",
    "from sklearn.linear_model import LinearRegression\n",
    "from sklearn.model_selection import TimeSeriesSplit\n",
    "from sklearn.metrics import mean_squared_error, mean_absolute_error, r2_score\n",
    "import warnings\n",
    "warnings.filterwarnings(\"ignore\", category=UserWarning)\n",
    "warnings.filterwarnings(\"ignore\", category=FutureWarning)"
   ]
  },
  {
   "cell_type": "code",
   "execution_count": null,
   "id": "47c05687-ba3d-477d-8611-b7a0a24b439a",
   "metadata": {},
   "outputs": [],
   "source": [
    "series = df['AAPL']"
   ]
  },
  {
   "cell_type": "code",
   "execution_count": null,
   "id": "8d4a7a7f-b973-4375-9eb5-eb036f7285b5",
   "metadata": {},
   "outputs": [],
   "source": [
    "lags = [1, 2, 3]"
   ]
  },
  {
   "cell_type": "code",
   "execution_count": null,
   "id": "07194418-96e0-471d-b791-a1856046199e",
   "metadata": {},
   "outputs": [],
   "source": [
    "features = pd.DataFrame({'y': series})"
   ]
  },
  {
   "cell_type": "code",
   "execution_count": null,
   "id": "8b1ede81-2b9a-41c2-a353-5e94ab7bb98d",
   "metadata": {},
   "outputs": [],
   "source": [
    "# Лаги\n",
    "for lag in lags:\n",
    "    features[f'lag_{lag}'] = series.shift(lag)"
   ]
  },
  {
   "cell_type": "code",
   "execution_count": null,
   "id": "b83bc61d-da0b-4b55-a9f6-bd4c155f8e2c",
   "metadata": {},
   "outputs": [],
   "source": [
    "# Удаление строк с NaN после генерации признаков\n",
    "features = features.dropna()"
   ]
  },
  {
   "cell_type": "code",
   "execution_count": null,
   "id": "93d7c699-61cf-480a-a2ac-4152d034af27",
   "metadata": {},
   "outputs": [],
   "source": [
    "# Разделение X и y\n",
    "X = features.drop(columns=['y'])\n",
    "y = features['y']"
   ]
  },
  {
   "cell_type": "code",
   "execution_count": null,
   "id": "50f6a8f7-c428-4846-bcf3-645b61776f3a",
   "metadata": {},
   "outputs": [],
   "source": [
    "n_splits = 5\n",
    "tscv = TimeSeriesSplit(n_splits=n_splits) "
   ]
  },
  {
   "cell_type": "code",
   "execution_count": null,
   "id": "201e7bc5-15d5-468d-bc86-c6c819f6e0c7",
   "metadata": {},
   "outputs": [],
   "source": [
    "rmse_scores = []\n",
    "mae_scores = []\n",
    "mape_scores = []\n",
    "r2_scores = []\n",
    "y_true_all = pd.Series(dtype=float)\n",
    "y_pred_all = pd.Series(dtype=float)"
   ]
  },
  {
   "cell_type": "code",
   "execution_count": null,
   "id": "b4b4ae8b-7f62-4173-9c85-ad834b79d2b7",
   "metadata": {},
   "outputs": [],
   "source": [
    "y_true_all = pd.Series(dtype=float)\n",
    "y_pred_all = pd.Series(dtype=float)\n",
    "\n",
    "for fold, (train_idx, test_idx) in enumerate(tscv.split(X)):\n",
    "    X_train, X_test = X.iloc[train_idx], X.iloc[test_idx]\n",
    "    y_train, y_test = y.iloc[train_idx], y.iloc[test_idx]\n",
    "\n",
    "    model = LinearRegression()\n",
    "    model.fit(X_train, y_train)\n",
    "    y_pred = model.predict(X_test)\n",
    "\n",
    "    # Сохраняем предсказания с правильным индексом\n",
    "    y_pred_all = pd.concat([y_pred_all, pd.Series(y_pred, index=y_test.index)])\n",
    "    y_true_all = pd.concat([y_true_all, y_test])\n",
    "\n",
    "    # Метрики (оставим как есть)\n",
    "    rmse = np.sqrt(mean_squared_error(y_test, y_pred))\n",
    "    mae = mean_absolute_error(y_test, y_pred)\n",
    "    mape = np.mean(np.abs((y_test - y_pred) / y_test)) * 100\n",
    "    r2 = r2_score(y_test, y_pred)\n",
    "\n",
    "    rmse_scores.append(rmse)\n",
    "    mae_scores.append(mae)\n",
    "    mape_scores.append(mape)\n",
    "    r2_scores.append(r2)\n",
    "\n",
    "    print(f\"Fold {fold+1}: RMSE={rmse:.2f}, MAE={mae:.2f}, MAPE={mape:.2f}%, R2={r2:.2f}\")"
   ]
  },
  {
   "cell_type": "code",
   "execution_count": null,
   "id": "8839a483-6b8f-4075-9ac8-fa8648fe0d68",
   "metadata": {},
   "outputs": [],
   "source": [
    "pd.DataFrame({\n",
    "    'Fold': [f'Fold {i+1}' for i in range(n_splits)],\n",
    "    'RMSE': rmse_scores,\n",
    "    'MAE': mae_scores,\n",
    "    'MAPE (%)': mape_scores,\n",
    "    'R2': r2_scores\n",
    "})"
   ]
  },
  {
   "cell_type": "markdown",
   "id": "f49c75b1-6ae2-4d12-8fad-19e065b59f53",
   "metadata": {},
   "source": [
    " - Все метрики демонстрируют низкие ошибки.\n",
    " - Очень высокие значения R² (близкие к 1) на каждом фолде — признак того, что признаки (лаги) хорошо объясняют поведение ряда.\n",
    " - MAPE < 2 % говорит о высокой точности относительно текущих цен — особенно важно в задачах трейдинга или управления рисками."
   ]
  },
  {
   "cell_type": "code",
   "execution_count": null,
   "id": "8da94d1c-05ba-4a50-b35f-39894b239bb8",
   "metadata": {},
   "outputs": [],
   "source": [
    "plt.figure(figsize=(12, 5))\n",
    "plt.plot(y_true_all.index, y_true_all, label='Истинные значения', color='red')\n",
    "plt.plot(y_pred_all.index, y_pred_all, label='Прогноз (Linear Regression)', linestyle='--', color='blue')\n",
    "plt.title('Прогноз vs Истинные значения (Linear Regression, CV)')\n",
    "plt.xlabel('Дата')\n",
    "plt.ylabel('Цена (USD)')\n",
    "plt.legend()\n",
    "plt.grid(True)\n",
    "plt.tight_layout()\n",
    "plt.show()"
   ]
  },
  {
   "cell_type": "markdown",
   "id": "8561c7d0-2926-431e-8246-6a0315277f71",
   "metadata": {},
   "source": [
    "<div style='background-color: lightblue; padding: 10px; border-radius: 10px;'>\n",
    "    <h4 style='color: darkblue;'> Forecast</h4>\n",
    "</div>"
   ]
  },
  {
   "cell_type": "code",
   "execution_count": null,
   "id": "8a0cb725-c5c0-4677-94e6-cdcea19d0b4a",
   "metadata": {},
   "outputs": [],
   "source": [
    "model_final = LinearRegression()\n",
    "model_final.fit(X, y)"
   ]
  },
  {
   "cell_type": "code",
   "execution_count": null,
   "id": "cd4fb517-b4e4-46ac-8f82-2ed1e3128371",
   "metadata": {},
   "outputs": [],
   "source": [
    "# Обучение модели Linear Regression\n",
    "model = LinearRegression()\n",
    "model.fit(X, y)"
   ]
  },
  {
   "cell_type": "code",
   "execution_count": null,
   "id": "46f3cbcd-91b3-4ce1-b53b-44398e6c60d4",
   "metadata": {},
   "outputs": [],
   "source": [
    "# Прогнозы на разные горизонты\n",
    "forecast_horizon = {\n",
    "    '1 месяц': 21,\n",
    "    '1 квартал': 63,\n",
    "    '0.5 года': 126,\n",
    "    '1 год': 252\n",
    "}"
   ]
  },
  {
   "cell_type": "code",
   "execution_count": null,
   "id": "a02fd2f1-2e3d-4d82-b5d5-9cbd3002aafc",
   "metadata": {},
   "outputs": [],
   "source": [
    "# Собираем прогнозы\n",
    "last_known = features.iloc[-1]\n",
    "future_forecasts = []\n",
    "\n",
    "for label, horizon in forecast_horizon.items():\n",
    "    preds = []\n",
    "    last_vals = list(last_known[[f'lag_{lag}' for lag in lags]])\n",
    "\n",
    "    for _ in range(horizon):\n",
    "        input_vec = np.array([last_vals[-lag] for lag in lags]).reshape(1, -1)\n",
    "        next_val = model.predict(input_vec)[0]\n",
    "        preds.append(next_val)\n",
    "        last_vals.append(next_val)\n",
    "\n",
    "    forecast_index = pd.date_range(start=series.index[-1], periods=horizon+1, freq='B')[1:]\n",
    "    future_forecasts.append((label, forecast_index, preds))"
   ]
  },
  {
   "cell_type": "code",
   "execution_count": null,
   "id": "f2b08528-b270-44d8-addc-29f96f2f4426",
   "metadata": {},
   "outputs": [],
   "source": [
    "for label, forecast_index, preds in future_forecasts:\n",
    "    plt.figure(figsize=(12, 4))\n",
    "    plt.plot(series[-126:], label='Факт (последние 6 мес.)', color='black')\n",
    "    plt.plot(forecast_index, preds, label=f'Прогноз: {label}', linestyle='--', color='blue')\n",
    "    plt.title(f'Прогноз AAPL на {label} (Linear Regression)')\n",
    "    plt.xlabel('Дата')\n",
    "    plt.ylabel('Цена (USD)')\n",
    "    plt.grid(True)\n",
    "    plt.legend()\n",
    "    plt.tight_layout()\n",
    "    plt.show()"
   ]
  },
  {
   "cell_type": "markdown",
   "id": "64cc0ef5-e08e-4a09-ac48-51068f6f59ad",
   "metadata": {},
   "source": [
    "Во всех горизонтах модель выдает плавный, монотонно растущий прогноз. Линейная регрессия не захватывает сложные паттерны в поведении цены акций. После резкого падения в марте–апреле 2025 модель не прогнозирует сильного восстановления, хотя данные намекают на возможный рост."
   ]
  },
  {
   "cell_type": "markdown",
   "id": "49ab7b38-d827-4abc-a211-7f53d5818dc2",
   "metadata": {},
   "source": [
    "<div style='background-color: lightblue; padding: 10px; border-radius: 10px;'>\n",
    "    <h4 style='color: darkblue;'> Prophet</h4>\n",
    "</div>"
   ]
  },
  {
   "cell_type": "markdown",
   "id": "0631c5ff-06e1-4514-9f63-3850efc98a92",
   "metadata": {},
   "source": [
    "Когда стоит использовать Prophet:\n",
    " - Нужен быстрый базовый прогноз, без ручной настройки.\n",
    " - Данные содержат сезонные колебания или тренд."
   ]
  },
  {
   "cell_type": "code",
   "execution_count": null,
   "id": "2458c1a2-0299-4bcd-b1bf-0c0ca0ce48b9",
   "metadata": {},
   "outputs": [],
   "source": [
    "from prophet import Prophet"
   ]
  },
  {
   "cell_type": "code",
   "execution_count": null,
   "id": "d19d3eb2-7773-41f2-945e-7217a42f92d5",
   "metadata": {},
   "outputs": [],
   "source": [
    "series = df['AAPL']\n",
    "# Prophet требует DataFrame с колонками 'ds' и 'y'\n",
    "df_prophet = pd.DataFrame({'ds': series.index, 'y': series.values})"
   ]
  },
  {
   "cell_type": "code",
   "execution_count": null,
   "id": "0fe29b19-e258-4d15-85e5-f241888b734b",
   "metadata": {},
   "outputs": [],
   "source": [
    "# TimeSeriesSplit\n",
    "n_splits = 5\n",
    "tscv = TimeSeriesSplit(n_splits=n_splits)"
   ]
  },
  {
   "cell_type": "code",
   "execution_count": null,
   "id": "48e4cf0b-acfb-4809-a084-220f3a1250e0",
   "metadata": {},
   "outputs": [],
   "source": [
    "rmse_scores, mae_scores, mape_scores, r2_scores = [], [], [], []\n",
    "predictions = pd.Series(index=series.index, dtype=float)"
   ]
  },
  {
   "cell_type": "code",
   "execution_count": null,
   "id": "2d31b2c7-9d9a-4a6a-ac93-f32f0c19b99c",
   "metadata": {},
   "outputs": [],
   "source": [
    "for fold, (train_idx, test_idx) in enumerate(tscv.split(df_prophet)):\n",
    "    train = df_prophet.iloc[train_idx].copy()\n",
    "    test = df_prophet.iloc[test_idx].copy()\n",
    "\n",
    "    model = Prophet(daily_seasonality=False, weekly_seasonality=False, \n",
    "                    yearly_seasonality=True, seasonality_mode='multiplicative')\n",
    "    model.fit(train)\n",
    "\n",
    "    future = test[['ds']]\n",
    "    forecast = model.predict(future)\n",
    "    y_true = test['y'].values\n",
    "    y_pred = forecast['yhat'].values\n",
    "    predictions.iloc[test_idx] = y_pred\n",
    "\n",
    "    rmse = np.sqrt(mean_squared_error(y_true, y_pred))\n",
    "    mae = mean_absolute_error(y_true, y_pred)\n",
    "    mape = np.mean(np.abs((y_true - y_pred) / y_true)) * 100\n",
    "    r2 = r2_score(y_true, y_pred)\n",
    "\n",
    "    rmse_scores.append(rmse)\n",
    "    mae_scores.append(mae)\n",
    "    mape_scores.append(mape)\n",
    "    r2_scores.append(r2)\n",
    "\n",
    "    print(f\"Fold {fold+1}: RMSE={rmse:.2f}, MAE={mae:.2f}, MAPE={mape:.2f}%, R2={r2:.2f}\")"
   ]
  },
  {
   "cell_type": "code",
   "execution_count": null,
   "id": "a9ca0af9-d4dd-4d5c-a8ef-fde0fa0a69e3",
   "metadata": {},
   "outputs": [],
   "source": [
    "pd.DataFrame({\n",
    "    'Fold': [f'Fold {i+1}' for i in range(n_splits)],\n",
    "    'RMSE': rmse_scores,\n",
    "    'MAE': mae_scores,\n",
    "    'MAPE (%)': mape_scores,\n",
    "    'R2': r2_scores\n",
    "})"
   ]
  },
  {
   "cell_type": "code",
   "execution_count": null,
   "id": "c2024700-2e42-4b22-af7e-1e7242c99bd7",
   "metadata": {},
   "outputs": [],
   "source": [
    "plt.figure(figsize=(14, 6))\n",
    "plt.plot(series, label='Факт', color='red')\n",
    "plt.plot(predictions, label='Prophet прогноз (CV)', linestyle='--', color='green')\n",
    "plt.title('Прогноз AAPL с Prophet и TimeSeriesSplit')\n",
    "plt.xlabel('Дата')\n",
    "plt.ylabel('Цена (USD)')\n",
    "plt.legend()\n",
    "plt.grid(True)\n",
    "plt.tight_layout()\n",
    "plt.show()"
   ]
  },
  {
   "cell_type": "markdown",
   "id": "5e4e18af-73f6-4ac1-a205-a6747dc4dff9",
   "metadata": {},
   "source": [
    "<div style='background-color: lightblue; padding: 10px; border-radius: 10px;'>\n",
    "    <h4 style='color: darkblue;'> Forecast</h4>\n",
    "</div>"
   ]
  },
  {
   "cell_type": "markdown",
   "id": "f92e8997-eceb-42d7-9492-f9d4dafa19dd",
   "metadata": {},
   "source": [
    "Prophet — это мощный инструмент для прогнозирования будущих значений в данных временных рядов, особенно когда ваши данные имеют повторяющиеся закономерности, такие как ежемесячные или годовые циклы."
   ]
  },
  {
   "cell_type": "code",
   "execution_count": null,
   "id": "e08e6692-d650-4695-914b-ba318e30b52d",
   "metadata": {},
   "outputs": [],
   "source": [
    "# Обучение модели Prophet\n",
    "model = Prophet(daily_seasonality=False, weekly_seasonality=False, \n",
    "                    yearly_seasonality=True, seasonality_mode='multiplicative')\n",
    "model.fit(df_prophet)"
   ]
  },
  {
   "cell_type": "code",
   "execution_count": null,
   "id": "10eed003-f5e1-4789-8c68-ca8b3da25a5e",
   "metadata": {},
   "outputs": [],
   "source": [
    "for label, horizon in forecast_horizon.items():\n",
    "    future = model.make_future_dataframe(periods=horizon, freq='B')\n",
    "    forecast = model.predict(future)\n",
    "    \n",
    "    plt.figure(figsize=(12, 4))\n",
    "    plt.plot(df_prophet['ds'][-126:], df_prophet['y'][-126:], label='Факт (последние 6 мес.)', color='red')\n",
    "    plt.plot(forecast['ds'][-horizon:], forecast['yhat'][-horizon:], label=f'Прогноз: {label}', linestyle='--', color='green')\n",
    "    plt.title(f'Прогноз AAPL на {label} (Prophet)')\n",
    "    plt.xlabel('Дата')\n",
    "    plt.ylabel('Цена (USD)')\n",
    "    plt.grid(True)\n",
    "    plt.legend()\n",
    "    plt.tight_layout()\n",
    "    plt.show()"
   ]
  },
  {
   "cell_type": "code",
   "execution_count": null,
   "id": "80c0ba9e-c23e-430d-8958-6e8462ab5fc6",
   "metadata": {},
   "outputs": [],
   "source": [
    "for label, horizon in forecast_horizon.items():\n",
    "    future = model.make_future_dataframe(periods=horizon, freq='B')\n",
    "    forecast = model.predict(future)\n",
    "\n",
    "    plt.plot(df_prophet['ds'], df_prophet['y'], label='Факт')\n",
    "    plt.plot(forecast['ds'], forecast['yhat'], label='Прогноз')\n",
    "    plt.fill_between(forecast['ds'], forecast['yhat_lower'], forecast['yhat_upper'], alpha=0.3)\n",
    "    plt.legend()\n",
    "    plt.grid(True)\n",
    "    plt.title(f'Сравнение прогноза Prophet с фактами ({label})')\n",
    "    plt.show()\n"
   ]
  },
  {
   "cell_type": "markdown",
   "id": "68850d5a-f724-4d05-b023-18aba0a052b7",
   "metadata": {},
   "source": [
    "Впрогнозе на первый месяц видим умеренный рост, в 1 квартале продолжается восходящий тренд, 6 месяцев - устойчивый рост, 1 год - продолжение тренда.\n",
    "Несмотря на явное снижение в марте–апреле 2025, Prophet не закладывает его в прогноз, демонстрирует слабую волатильность и периодические колебания. Модель предсказывает устойчивый рост цены AAPL. "
   ]
  },
  {
   "cell_type": "markdown",
   "id": "1a14115a-f956-454e-96ca-24f846d79a9b",
   "metadata": {},
   "source": [
    "Прогнозная линия (оранжевая) следит за историческим ростом цены AAPL довольно точно. Фактические значения в большинстве случаев укладываются в доверительный интервал, что подтверждает надежность прогноза."
   ]
  },
  {
   "cell_type": "code",
   "execution_count": null,
   "id": "6ef8c5b5-5cd7-437a-ad80-6f700f9617f2",
   "metadata": {},
   "outputs": [],
   "source": [
    "model.plot_components(forecast)\n",
    "plt.suptitle(f\"Компоненты прогноза Prophet ({label})\", fontsize=14)\n",
    "plt.tight_layout()\n",
    "plt.show()"
   ]
  },
  {
   "cell_type": "markdown",
   "id": "8325657f-3b1f-4b4d-a2ac-7bcae4cc1b11",
   "metadata": {},
   "source": [
    "Тренд (trend component):\n",
    " - \tС 2017 по 2025 цена AAPL демонстрирует устойчивый восходящий тренд.\n",
    " - \tВ 2022–2023 наблюдается временное замедление роста (возможно, связано с внешними событиями).\n",
    " - \tВ 2025–2026 модель прогнозирует восстановление и дальнейший рост.\n",
    " - \tИнтервал неопределенности расширяется в будущем, что естественно при долгосрочном прогнозировании."
   ]
  },
  {
   "cell_type": "markdown",
   "id": "f4e0d707-ac21-41a8-995b-f42a71575d2e",
   "metadata": {},
   "source": [
    "Годовая сезонность (yearly component):\n",
    " - Prophet выявил сезонную структуру доходности в течение года:\n",
    " - Апрель–май — исторически слабые месяцы: наблюдается спад.\n",
    " - Август–сентябрь — подъём.\n",
    " - Декабрь и начало января — снова заметный рост (вероятно, рождественский эффект или период годовой отчетности)."
   ]
  },
  {
   "cell_type": "markdown",
   "id": "895c30ca-066e-4426-b504-c06e42d871e7",
   "metadata": {},
   "source": [
    "Инвестиционные рекомендации - покупка:\n",
    " - модель Prophet прогнозирует устойчивый рост в течение следующего полугодия и года.\n",
    " - Подходит для долгосрочных инвесторов, ориентированных на рост стоимости.\n",
    " - Продажа в текущей точке могла бы упустить потенциальную прибыль на росте."
   ]
  }
 ],
 "metadata": {
  "kernelspec": {
   "display_name": "Python 3 (ipykernel)",
   "language": "python",
   "name": "python3"
  },
  "language_info": {
   "codemirror_mode": {
    "name": "ipython",
    "version": 3
   },
   "file_extension": ".py",
   "mimetype": "text/x-python",
   "name": "python",
   "nbconvert_exporter": "python",
   "pygments_lexer": "ipython3",
   "version": "3.12.7"
  }
 },
 "nbformat": 4,
 "nbformat_minor": 5
}
