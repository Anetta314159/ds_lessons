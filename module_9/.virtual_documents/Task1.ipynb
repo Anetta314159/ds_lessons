











import yfinance as yf
import pandas as pd





# Компании
companies = {
    'EPAM': 'EPAM Systems, Inc.',
    'AAPL': 'Apple Inc.'
}


# Даты
start_date = '2017-01-01'
end_date = '2025-04-29'


# Скачивание данных
data = {}
for ticker in companies:
    df = yf.download(ticker, start=start_date, end=end_date)
    df.to_csv(f'{ticker}_daily_data.csv')  # Сохраняем в файл
    data[ticker] = df


df.head()





# Оставляем только закрытие
close_data = {ticker: df[['Close']] for ticker, df in data.items()}


df = pd.concat(close_data, axis=1)
df.columns = ['EPAM', 'AAPL']





import matplotlib.pyplot as plt


df.head()


df.info()


df.to_csv('closing_price.csv')





plt.figure(figsize=(14, 6))
# EPAM
plt.plot(df.index, df['EPAM'], label='EPAM', alpha=0.7)
# AAPL
plt.plot(df.index, df['AAPL'], label='AAPL', alpha=0.7)
plt.title('Закрытые цены акций EPAM и AAPL (2017-2025)', fontsize=16)
plt.xlabel('Дата')
plt.ylabel('Цена закрытия (USD)')
plt.legend()
plt.grid(True)
plt.show()





df.describe()


stats = df.describe().T
print(f'coef_var: \n{stats['std'] / stats['mean']}')








df_ma = df.copy()
df_ma['EPAM_MA252'] = df['EPAM'].rolling(window=252).mean()
df_ma['AAPL_MA252'] = df['AAPL'].rolling(window=252).mean()


plt.figure(figsize=(14, 6))
plt.plot(df_ma.index, df_ma['EPAM'], label='EPAM', alpha=0.6)
plt.plot(df_ma.index, df_ma['AAPL'], label='AAPL', alpha=0.6)
plt.plot(df_ma.index, df_ma['EPAM_MA252'], label='EPAM (MA252)', linestyle='--')
plt.plot(df_ma.index, df_ma['AAPL_MA252'], label='AAPL (MA252)', linestyle='--')

plt.title('Закрытые цены и тренд (MA252) EPAM и AAPL (2017–2025)')
plt.xlabel('Дата')
plt.ylabel('Цена закрытия (USD)')
plt.legend()
plt.grid(True)
plt.tight_layout()
plt.show()








from statsmodels.tsa.stattools import adfuller


def adf_test(series, title=''):
    result = adfuller(series.dropna(), autolag='AIC')
    labels = ['ADF Statistic', 'p-value', 'Lags Used', 'Observations Used']
    out = pd.Series(result[0:4], index=labels)
    for key, value in result[4].items():
        out[f'Critical Value ({key})'] = value
    return out


adf_results = {
    'EPAM': adf_test(df['EPAM']),
    'AAPL': adf_test(df['AAPL'])
}


pd.DataFrame(adf_results)








# Приведение к стационарному виду — первое дифференцирование
df_diff = df.diff().dropna()


# Повторный тест Дики-Фуллера
adf_results_diff = {
    'EPAM_diff': adf_test(df_diff['EPAM']),
    'AAPL_diff': adf_test(df_diff['AAPL'])
}
pd.DataFrame(adf_results_diff)





plt.figure(figsize=(14, 6))
plt.plot(df_diff.index, df_diff['EPAM'], label='EPAM (diff)', alpha=0.7)
plt.plot(df_diff.index, df_diff['AAPL'], label='AAPL (diff)', alpha=0.7)
plt.title('Стационарные ряды')
plt.xlabel('Дата')
plt.ylabel('Разность закрытия')
plt.legend()
plt.grid(True)
plt.tight_layout()
plt.show()





from statsmodels.graphics.tsaplots import plot_acf, plot_pacf


fig, axes = plt.subplots(2, 2, figsize=(14, 10))
# EPAM ACF и PACF
plot_acf(df_diff['EPAM'], ax=axes[0, 0], lags=40, title='EPAM - ACF')
plot_pacf(df_diff['EPAM'], ax=axes[0, 1], lags=40, title='EPAM - PACF', method='ywm')
# AAPL ACF и PACF
plot_acf(df_diff['AAPL'], ax=axes[1, 0], lags=40, title='AAPL - ACF')
plot_pacf(df_diff['AAPL'], ax=axes[1, 1], lags=40, title='AAPL - PACF', method='ywm')
plt.tight_layout()
plt.show()








from statsmodels.tsa.seasonal import seasonal_decompose


# Период 252 — примерно количество торговых дней в году
decomposition_epam = seasonal_decompose(df['EPAM'], model='additive', period=252)
decomposition_aapl = seasonal_decompose(df['AAPL'], model='additive', period=252)


fig_epam = decomposition_epam.plot()
fig_epam.set_size_inches(14, 8)
fig_epam.suptitle('Сезонная декомпозиция EPAM (период=252)', fontsize=16)
plt.tight_layout()
plt.show()











fig_aapl = decomposition_aapl.plot()
fig_aapl.set_size_inches(14, 8)
fig_aapl.suptitle('Сезонная декомпозиция AAPL (период=252)', fontsize=16)
plt.tight_layout()
plt.show()


























import numpy as np
from sklearn.linear_model import LinearRegression
from sklearn.model_selection import TimeSeriesSplit
from sklearn.metrics import mean_squared_error, mean_absolute_error, r2_score
import warnings
warnings.filterwarnings("ignore", category=UserWarning)
warnings.filterwarnings("ignore", category=FutureWarning)


series = df['AAPL']


lags = [1, 2, 3]


features = pd.DataFrame({'y': series})


# Лаги
for lag in lags:
    features[f'lag_{lag}'] = series.shift(lag)


# Удаление строк с NaN после генерации признаков
features = features.dropna()


# Разделение X и y
X = features.drop(columns=['y'])
y = features['y']


n_splits = 5
tscv = TimeSeriesSplit(n_splits=n_splits) 


rmse_scores = []
mae_scores = []
mape_scores = []
r2_scores = []
y_true_all = pd.Series(dtype=float)
y_pred_all = pd.Series(dtype=float)


y_true_all = pd.Series(dtype=float)
y_pred_all = pd.Series(dtype=float)

for fold, (train_idx, test_idx) in enumerate(tscv.split(X)):
    X_train, X_test = X.iloc[train_idx], X.iloc[test_idx]
    y_train, y_test = y.iloc[train_idx], y.iloc[test_idx]

    model = LinearRegression()
    model.fit(X_train, y_train)
    y_pred = model.predict(X_test)

    # Сохраняем предсказания с правильным индексом
    y_pred_all = pd.concat([y_pred_all, pd.Series(y_pred, index=y_test.index)])
    y_true_all = pd.concat([y_true_all, y_test])

    # Метрики (оставим как есть)
    rmse = np.sqrt(mean_squared_error(y_test, y_pred))
    mae = mean_absolute_error(y_test, y_pred)
    mape = np.mean(np.abs((y_test - y_pred) / y_test)) * 100
    r2 = r2_score(y_test, y_pred)

    rmse_scores.append(rmse)
    mae_scores.append(mae)
    mape_scores.append(mape)
    r2_scores.append(r2)

    print(f"Fold {fold+1}: RMSE={rmse:.2f}, MAE={mae:.2f}, MAPE={mape:.2f}%, R2={r2:.2f}")


pd.DataFrame({
    'Fold': [f'Fold {i+1}' for i in range(n_splits)],
    'RMSE': rmse_scores,
    'MAE': mae_scores,
    'MAPE (%)': mape_scores,
    'R2': r2_scores
})





plt.figure(figsize=(12, 5))
plt.plot(y_true_all.index, y_true_all, label='Истинные значения', color='red')
plt.plot(y_pred_all.index, y_pred_all, label='Прогноз (Linear Regression)', linestyle='--', color='blue')
plt.title('Прогноз vs Истинные значения (Linear Regression, CV)')
plt.xlabel('Дата')
plt.ylabel('Цена (USD)')
plt.legend()
plt.grid(True)
plt.tight_layout()
plt.show()





model_final = LinearRegression()
model_final.fit(X, y)


# Обучение модели Linear Regression
model = LinearRegression()
model.fit(X, y)


# Прогнозы на разные горизонты
forecast_horizon = {
    '1 месяц': 21,
    '1 квартал': 63,
    '0.5 года': 126,
    '1 год': 252
}


# Собираем прогнозы
last_known = features.iloc[-1]
future_forecasts = []

for label, horizon in forecast_horizon.items():
    preds = []
    last_vals = list(last_known[[f'lag_{lag}' for lag in lags]])

    for _ in range(horizon):
        input_vec = np.array([last_vals[-lag] for lag in lags]).reshape(1, -1)
        next_val = model.predict(input_vec)[0]
        preds.append(next_val)
        last_vals.append(next_val)

    forecast_index = pd.date_range(start=series.index[-1], periods=horizon+1, freq='B')[1:]
    future_forecasts.append((label, forecast_index, preds))


for label, forecast_index, preds in future_forecasts:
    plt.figure(figsize=(12, 4))
    plt.plot(series[-126:], label='Факт (последние 6 мес.)', color='black')
    plt.plot(forecast_index, preds, label=f'Прогноз: {label}', linestyle='--', color='blue')
    plt.title(f'Прогноз AAPL на {label} (Linear Regression)')
    plt.xlabel('Дата')
    plt.ylabel('Цена (USD)')
    plt.grid(True)
    plt.legend()
    plt.tight_layout()
    plt.show()











from prophet import Prophet


series = df['AAPL']
# Prophet требует DataFrame с колонками 'ds' и 'y'
df_prophet = pd.DataFrame({'ds': series.index, 'y': series.values})


# TimeSeriesSplit
n_splits = 5
tscv = TimeSeriesSplit(n_splits=n_splits)


rmse_scores, mae_scores, mape_scores, r2_scores = [], [], [], []
predictions = pd.Series(index=series.index, dtype=float)


for fold, (train_idx, test_idx) in enumerate(tscv.split(df_prophet)):
    train = df_prophet.iloc[train_idx].copy()
    test = df_prophet.iloc[test_idx].copy()

    model = Prophet(daily_seasonality=False, weekly_seasonality=False, 
                    yearly_seasonality=True, seasonality_mode='multiplicative')
    model.fit(train)

    future = test[['ds']]
    forecast = model.predict(future)
    y_true = test['y'].values
    y_pred = forecast['yhat'].values
    predictions.iloc[test_idx] = y_pred

    rmse = np.sqrt(mean_squared_error(y_true, y_pred))
    mae = mean_absolute_error(y_true, y_pred)
    mape = np.mean(np.abs((y_true - y_pred) / y_true)) * 100
    r2 = r2_score(y_true, y_pred)

    rmse_scores.append(rmse)
    mae_scores.append(mae)
    mape_scores.append(mape)
    r2_scores.append(r2)

    print(f"Fold {fold+1}: RMSE={rmse:.2f}, MAE={mae:.2f}, MAPE={mape:.2f}%, R2={r2:.2f}")


pd.DataFrame({
    'Fold': [f'Fold {i+1}' for i in range(n_splits)],
    'RMSE': rmse_scores,
    'MAE': mae_scores,
    'MAPE (%)': mape_scores,
    'R2': r2_scores
})


plt.figure(figsize=(14, 6))
plt.plot(series, label='Факт', color='red')
plt.plot(predictions, label='Prophet прогноз (CV)', linestyle='--', color='green')
plt.title('Прогноз AAPL с Prophet и TimeSeriesSplit')
plt.xlabel('Дата')
plt.ylabel('Цена (USD)')
plt.legend()
plt.grid(True)
plt.tight_layout()
plt.show()








# Обучение модели Prophet
model = Prophet(daily_seasonality=False, weekly_seasonality=False, 
                    yearly_seasonality=True, seasonality_mode='multiplicative')
model.fit(df_prophet)


for label, horizon in forecast_horizon.items():
    future = model.make_future_dataframe(periods=horizon, freq='B')
    forecast = model.predict(future)
    
    plt.figure(figsize=(12, 4))
    plt.plot(df_prophet['ds'][-126:], df_prophet['y'][-126:], label='Факт (последние 6 мес.)', color='red')
    plt.plot(forecast['ds'][-horizon:], forecast['yhat'][-horizon:], label=f'Прогноз: {label}', linestyle='--', color='green')
    plt.title(f'Прогноз AAPL на {label} (Prophet)')
    plt.xlabel('Дата')
    plt.ylabel('Цена (USD)')
    plt.grid(True)
    plt.legend()
    plt.tight_layout()
    plt.show()


for label, horizon in forecast_horizon.items():
    future = model.make_future_dataframe(periods=horizon, freq='B')
    forecast = model.predict(future)

    plt.plot(df_prophet['ds'], df_prophet['y'], label='Факт')
    plt.plot(forecast['ds'], forecast['yhat'], label='Прогноз')
    plt.fill_between(forecast['ds'], forecast['yhat_lower'], forecast['yhat_upper'], alpha=0.3)
    plt.legend()
    plt.grid(True)
    plt.title(f'Сравнение прогноза Prophet с фактами ({label})')
    plt.show()









model.plot_components(forecast)
plt.suptitle(f"Компоненты прогноза Prophet ({label})", fontsize=14)
plt.tight_layout()
plt.show()









